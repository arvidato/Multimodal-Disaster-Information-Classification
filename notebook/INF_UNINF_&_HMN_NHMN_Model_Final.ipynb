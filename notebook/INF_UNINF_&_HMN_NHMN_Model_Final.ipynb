{
  "cells": [
    {
      "cell_type": "markdown",
      "metadata": {
        "id": "WBkusqdhaNfg"
      },
      "source": [
        "# **Title:** When Words and Images Speak, AI Listens \"Multimodal Disaster Tweet Classification with VisualBert\"\n",
        "\n",
        "\n",
        "## **Dataset:** [CrisisMMD2INF on HuggingFace](https://huggingface.co/datasets/xiaoxl/crisismmd2inf) and [CrisisMMD2HUUM on HuggingFace](https://huggingface.co/datasets/xiaoxl/crisismmd2hum)  \n",
        "This dataset includes social media posts (tweets) with both textual content and corresponding images, making it ideal for multimodal learning.\n",
        "\n",
        "## **Objective:** Develop a model that classifies social media posts during disasters into categories such as 'informative' or 'uninformative' and assesses their urgency level. This involves multimodal (text + image) classification.\n",
        "\n",
        "## **Approach:**  \n",
        "- Use ResNet50/Resnet152/DINOv2 to extract image embeddings.  We experiment with these different visual embedding models and advise on which performs better.\n",
        "- Tokenize and encode text using BERT tokenizer.  \n",
        "- Combine both modalities using VisualBERT for multimodal classification.  \n",
        "- Evaluate performance\n",
        "\n",
        "\n",
        "---\n",
        "\n",
        "# Project stages\n",
        "\n",
        "This project consists of two stages of multimodal tweet classification using VisualBERT and ResNet-50:\n",
        "\n",
        "\n",
        "##  Stage 1: Informativeness Classification  \n",
        "**Dataset Used:** [CrisisMMD2INF](https://huggingface.co/datasets/xiaoxl/crisismmd2inf)  \n",
        "This dataset includes social media posts annotated as *Informative* or *Not Informative*.\n",
        "\n",
        "In this stage, we conducted experiments analyzing different visual embedding models.\n",
        "\n",
        "- **Train set:** 9,601 samples  \n",
        "- **Validation set:** 1,573 samples  \n",
        "- **Test set:** 1,534 samples  \n",
        "\n",
        "** Model Initialized with Pretrained Weights:**  \n",
        "- **Text encoder:** BERT tokenizer  \n",
        "- **Image encoder:** ResNet-50 / ResNet-152 / DINOv2\n",
        "- **Fusion:** Text and visual embeddings fed into VisualBERT  \n",
        "- **Loss:** Class-weighted CrossEntropyLoss  \n",
        "- **Training Epochs:** 20\n",
        "\n",
        "\n",
        "---\n",
        "\n",
        "##  Stage 2: Humanitarian Content Classification  \n",
        "**Dataset Used:** [CrisisMMD2HUM](https://huggingface.co/datasets/xiaoxl/crisismmd2hum)  \n",
        "This dataset contains tweets labeled into more specific humanitarian categories.\n",
        "\n",
        "In this stage we use the best-performing visual embedding model from stage one, which is the Resnet-152 CNN based model.\n",
        "\n",
        "- **Train set:** 2,140 samples  \n",
        "- **Validation set:** 473 samples  \n",
        "- **Test set:** 955 samples  \n",
        "\n",
        "** Model & Pipeline:**  \n",
        "- Same multimodal VisualBERT + ResNet-152 architecture  \n",
        "- Adjusted for 5 humanitarian classes  \n",
        "- Applied weighted loss to address label imbalance  \n",
        "- Training Epochs: 20\n",
        "\n",
        "---\n",
        "\n",
        "\n",
        "# Classification Report\n",
        "\n",
        "We used `classification_report` from the `sklearn.metrics` module to evaluate the performance of our VisualBERT model on both the validation and test datasets.\n",
        "\n",
        "The classification report provides key metrics for each class in the classification task:\n",
        "\n",
        "- **Precision:** The ratio of correctly predicted positive observations to the total predicted positives. High precision means fewer false positives.\n",
        "- **Recall:** The ratio of correctly predicted positive observations to all actual positives. High recall means fewer false negatives.\n",
        "- **F1-Score:** The harmonic mean of precision and recall. It balances both metrics and is especially useful for imbalanced datasets.\n",
        "- **Support:** The number of true instances of each class in the dataset.\n",
        "\n",
        "In our case (Informative vs. Uninformative classification), the report gives insight into how well the model distinguishes between the two categories. The macro and weighted averages are also reported:\n",
        "- **Macro Average:** Averages the metrics across classes without considering class imbalance.\n",
        "- **Weighted Average:** Averages the metrics while taking into account the number of instances per class.\n",
        "\n",
        "This report helps identify whether the model performs equally well on both classes or favors one over the other.\n",
        "\n",
        "---\n",
        "\n",
        "# References and Resources\n",
        "\n",
        "**VisualBERT Paper:** Liunian Harold Li et al., VisualBERT: A Simple and Performant Baseline for Vision and Language, arXiv:1908.03557.​\n",
        "\n",
        "**Hugging Face VisualBERT Documentation:** https://huggingface.co/docs/transformers/model_doc/visual_bert​\n",
        "\n",
        "**Pre-trained VisualBERT Model:** https://huggingface.co/uclanlp/visualbert-vqa-coco-pre​\n",
        "\n",
        "**CrisisMMD2 Dataset:** https://huggingface.co/datasets/xiaoxl/crisismmd2inf​\n",
        "\n",
        "\n",
        "---"
      ]
    },
    {
      "cell_type": "markdown",
      "metadata": {
        "id": "G4p987r_xTV5"
      },
      "source": [
        "# Stage 1: Informativeness Classification (crisismmd2inf)\n",
        "\n",
        "In the first stage of the pipeline, we determine whether each disaster-related tweet is **Informative** or **Not Informative**. This classification step is essential for filtering out irrelevant content and prioritizing messages that convey actionable information.\n",
        "\n",
        "We use the `xiaoxl/crisismmd2inf` dataset from Hugging Face, which includes tweets paired with associated images and annotated labels for informativeness.\n",
        "\n",
        "The possible classes are:\n",
        "- **Informative**: The tweet contains useful or relevant crisis-related information.\n",
        "- **Not Informative**: The tweet does not contain helpful content for disaster response.\n",
        "\n",
        "This task uses a **multimodal classification approach**, combining textual and visual features through a shared model architecture (VisualBERT + ResNet), similar to Stage 2.\n"
      ]
    },
    {
      "cell_type": "markdown",
      "source": [
        "## Setup"
      ],
      "metadata": {
        "id": "Er-jHxaXgWO4"
      }
    },
    {
      "cell_type": "markdown",
      "source": [
        "### Install needed packages"
      ],
      "metadata": {
        "id": "_wD3pScpdiQf"
      }
    },
    {
      "cell_type": "code",
      "source": [
        "!pip install -U datasets"
      ],
      "metadata": {
        "id": "w6oZv1Br8HY6"
      },
      "execution_count": null,
      "outputs": []
    },
    {
      "cell_type": "code",
      "execution_count": null,
      "metadata": {
        "id": "_FeueaCZxTV6"
      },
      "outputs": [],
      "source": [
        "# Install Required Libraries\n",
        "!pip install torch torchvision transformers scikit-learn pillow"
      ]
    },
    {
      "cell_type": "markdown",
      "source": [
        "### Import needed packages"
      ],
      "metadata": {
        "id": "h9QpadSjdsZe"
      }
    },
    {
      "cell_type": "code",
      "execution_count": 3,
      "metadata": {
        "id": "iKlOcE8ZUboW"
      },
      "outputs": [],
      "source": [
        "import torch\n",
        "import torch.nn as nn\n",
        "import torch.nn as nn\n",
        "import torch.nn.functional as F\n",
        "\n",
        "from transformers import VisualBertModel, BertTokenizerFast\n",
        "from torchvision import models, transforms\n",
        "from torch.utils.data import Dataset, DataLoader\n",
        "from sklearn.metrics import classification_report\n",
        "from PIL import Image\n",
        "from torch.optim.lr_scheduler import ReduceLROnPlateau\n",
        "from datasets import load_dataset\n",
        "from torchvision.models import resnet50, ResNet50_Weights\n",
        "from torchvision.models import resnet152, ResNet152_Weights\n"
      ]
    },
    {
      "cell_type": "markdown",
      "source": [
        "###  Environment Configuration"
      ],
      "metadata": {
        "id": "KB3-M549gC87"
      }
    },
    {
      "cell_type": "markdown",
      "metadata": {
        "id": "4nFKRZEzxTV7"
      },
      "source": [
        "This section outlines the hyperparameters and system setup used for fine-tuning the VisualBERT model on the CrisisMMD2INF dataset.\n",
        "\n",
        "\n",
        "**Text Tokenization:**\n",
        "- `MODEL_NAME = 'bert-base-uncased'`  \n",
        "  A pre-trained BERT tokenizer from Hugging Face is used to convert tweet text into token IDs. The lowercase (uncased) version is suitable for most general English NLP tasks.\n",
        "\n",
        "**Sequence Length:**\n",
        "- `MAX_SEQ_LENGTH = 128`  \n",
        "  Sets the maximum number of tokens per tweet input to 128 to standardize input size and control memory usage.\n",
        "\n",
        "**VisualBERT Configuration:**\n",
        "- `DROPOUT = 0.3`  \n",
        "  Applies a 30% dropout in the classification layer to prevent overfitting during fine-tuning.\n",
        "\n",
        "**Data Loading Settings:**\n",
        "- `BATCH_SIZE = 64` — Number of samples per batch during training  \n",
        "- `WORKERS = 4` — Number of subprocesses used to load data in parallel  \n",
        "- `SHUFFLE = True` — Shuffles the dataset each epoch to ensure robustness  \n",
        "- `PIN_MEMORY = True` — Speeds up GPU training by enabling fast memory transfer\n",
        "\n",
        "\n",
        "**Optimization Settings:**\n",
        "- `LEARNING_RATE = 1e-5` — A small learning rate suitable for fine-tuning pretrained models  \n",
        "- `WEIGHT_DECAY = 1e-4` — L2 regularization to prevent overfitting\n",
        "\n",
        "**Learning Rate Scheduler:**\n",
        "- `PATIENCE = 2` — Reduces the learning rate if validation loss doesn’t improve for 2 epochs  \n",
        "- `FACTOR = 0.5` — Reduces learning rate by a factor of 0.5 when triggered\n",
        "\n",
        "**Training Loop:**\n",
        "- `EPOCHS = 20` — Number of complete passes over the training set"
      ]
    },
    {
      "cell_type": "code",
      "execution_count": 4,
      "metadata": {
        "colab": {
          "base_uri": "https://localhost:8080/"
        },
        "id": "U5uSLmzWxTV7",
        "outputId": "980796a8-a1ae-45a5-a409-c5919c3014bd"
      },
      "outputs": [
        {
          "output_type": "stream",
          "name": "stdout",
          "text": [
            "Using device: cuda\n"
          ]
        }
      ],
      "source": [
        "# Tokenizer\n",
        "MODEL_NAME = 'bert-base-uncased'\n",
        "\n",
        "#CrisisCustom Model\n",
        "MAX_SEQ_LENGTH = 128\n",
        "\n",
        "# Training Configuration for VisualBERT\n",
        "DROPOUT = 0.3\n",
        "\n",
        "# Training Configuration for the NN\n",
        "# Loading the DataLoader\n",
        "BATCH_SIZE = 64\n",
        "WORKERS = 4\n",
        "SHUFFLE=True\n",
        "PIN_MEMORY=True\n",
        "# Loss and Optimizer\n",
        "LEARNING_RATE = 1e-5\n",
        "WEIGHT_DECAY = 1e-4\n",
        "# Scheduler\n",
        "PATIENCE = 2\n",
        "FACTOR = 0.5\n",
        "# Training of the Model\n",
        "EPOCHS = 10\n",
        "\n",
        "# Device configuration\n",
        "device = 'cuda' if torch.cuda.is_available() else 'cpu'\n",
        "print(f\"Using device: {device}\")"
      ]
    },
    {
      "cell_type": "markdown",
      "metadata": {
        "id": "Rnc9WrZVxTV7"
      },
      "source": [
        "##  Dataset Prep\n",
        "\n",
        "In this step, we prepare the **CrisisMMD2INF** dataset for training and evaluation.\n",
        "\n",
        "####  Loading the Dataset\n",
        "We use Hugging Face’s `load_dataset` function to load the full CrisisMMD2INF dataset, which includes:\n",
        "- Textual tweet content\n",
        "- Associated disaster-related images\n",
        "- Multiple labels (e.g., informativeness, urgency, type)\n",
        "\n",
        "#### Dataset Splits\n",
        "The dataset is already split into three parts:\n",
        "- **Train:** Used for model training\n",
        "- **Validation (dev):** Used to monitor performance and tune hyperparameters\n",
        "- **Test:** Used for final evaluation after training\n",
        "\n",
        "```python\n",
        "{\n",
        "  \"train_size\": 9601,\n",
        "  \"validation_size\": 1573,\n",
        "  \"test_size\": 1534\n",
        "}\n"
      ]
    },
    {
      "cell_type": "code",
      "execution_count": null,
      "metadata": {
        "id": "_bsEDnBRxTV7"
      },
      "outputs": [],
      "source": [
        "# Load the full dataset from Hugging Face\n",
        "dataset = load_dataset(\"xiaoxl/crisismmd2inf\")\n",
        "\n",
        "# Split the dataset\n",
        "train_dataset = dataset[\"train\"]\n",
        "val_dataset = dataset[\"dev\"]\n",
        "test_dataset = dataset[\"test\"]\n",
        "\n",
        "# Count and print the sizes\n",
        "print({\n",
        "    \"train_size\": len(train_dataset),\n",
        "    \"validation_size\": len(val_dataset),\n",
        "    \"test_size\": len(test_dataset)\n",
        "})\n",
        "\n",
        "# Count function\n",
        "# def count_labels(data_split):\n",
        "#     label_counts = {\"informative\": 0, \"not_informative\": 0}\n",
        "#     for example in data_split:\n",
        "#         label = example[\"label\"]  # This is a string: 'informative' or 'not_informative'\n",
        "#         if label in label_counts:\n",
        "#             label_counts[label] += 1\n",
        "#     return label_counts\n",
        "\n",
        "# print(\"Train:\", count_labels(dataset[\"train\"]))\n",
        "# print(\"Validation:\", count_labels(dataset[\"dev\"]))\n",
        "# print(\"Test:\", count_labels(dataset[\"test\"]))"
      ]
    },
    {
      "cell_type": "code",
      "execution_count": 6,
      "metadata": {
        "id": "mQOaELqsxTV8"
      },
      "outputs": [],
      "source": [
        "# Label mapping\n",
        "label2id = {'informative': 1, 'not_informative': 0}"
      ]
    },
    {
      "cell_type": "markdown",
      "metadata": {
        "id": "AjXJbYp0xTV8"
      },
      "source": [
        "###  Image Transformations for Data Augmentation\n",
        "\n",
        "This cell defines a set of image transformations using `torchvision.transforms.Compose`, which is applied to the training images to augment the dataset.\n",
        "\n",
        "- **RandomResizedCrop(224)**: Randomly crops the image to 224×224 pixels, scaling the crop between 80% and 100% of the original size.\n",
        "- **RandomHorizontalFlip()**: Randomly flips the image horizontally with a probability of 0.5.\n",
        "- **RandomRotation(10)**: Rotates the image randomly within ±10 degrees.\n",
        "- **ColorJitter**: Randomly changes the brightness, contrast, and saturation to simulate lighting variations.\n",
        "- **GaussianBlur(3)**: Applies Gaussian blur with a kernel size of 3 to smooth the image slightly.\n",
        "- **ToTensor()**: Converts the image to a PyTorch tensor and scales pixel values to [0, 1].\n",
        "- **Normalize(mean, std)**: Normalizes the image using the standard mean and standard deviation values of the ImageNet dataset.\n"
      ]
    },
    {
      "cell_type": "code",
      "execution_count": 7,
      "metadata": {
        "id": "kQtoQShQxTV8"
      },
      "outputs": [],
      "source": [
        "# Image transform\n",
        "image_transform = transforms.Compose([\n",
        "    transforms.RandomResizedCrop(224, scale=(0.8, 1.0)),\n",
        "    transforms.RandomHorizontalFlip(),\n",
        "    transforms.RandomRotation(10),\n",
        "    transforms.ColorJitter(brightness=0.2, contrast=0.2, saturation=0.2),\n",
        "    transforms.GaussianBlur(3),\n",
        "    transforms.ToTensor(),\n",
        "    transforms.Normalize(mean=[0.485, 0.456, 0.406],\n",
        "                         std =[0.229, 0.224, 0.225])\n",
        "])"
      ]
    },
    {
      "cell_type": "markdown",
      "metadata": {
        "id": "aeHGJ8g4xTV8"
      },
      "source": [
        "## Tokenizer and ResNet Feature Extractor Setup\n",
        "\n",
        "This cell sets up two essential components of the multimodal model: the tokenizer for text and the Visual embedding model for image feature extraction.\n",
        "\n",
        "- **BERT Tokenizer Initialization**:\n",
        "  - Loads a pre-trained BERT tokenizer using `BertTokenizerFast.from_pretrained(MODEL_NAME)`.\n",
        "  - The tokenizer uses the vocabulary of a lowercase (uncased) BERT model, which is well-suited for informal language such as tweets.\n",
        "\n",
        "- **ResNet50 Image Encoder**:\n",
        "  - Loads a pre-trained `ResNet50` model with `IMAGENET1K_V1` weights.\n",
        "  - Loads a pre-trained `ResNet152` model with `IMAGENET1K_V1` weights.\n",
        "  - The fully connected (classification) layer is replaced with `nn.Identity()` to use ResNet purely as a feature extractor.\n",
        "\n",
        "- **Freezing and Fine-Tuning Layers**:\n",
        "  - All layers in ResNet are frozen (no gradient updates during training).\n",
        "  - The last 20 layers are optionally unfrozen to allow fine-tuning of deeper features, striking a balance between efficiency and model adaptability."
      ]
    },
    {
      "cell_type": "code",
      "source": [
        "# Load tokenizer and pretrained ResNet model\n",
        "tokenizer = BertTokenizerFast.from_pretrained(MODEL_NAME)"
      ],
      "metadata": {
        "id": "D4b0XQS_EJPK"
      },
      "execution_count": null,
      "outputs": []
    },
    {
      "cell_type": "code",
      "execution_count": 28,
      "metadata": {
        "colab": {
          "base_uri": "https://localhost:8080/"
        },
        "id": "zP-jcYsbxTV8",
        "outputId": "9f2e3bfb-6400-4da1-98d8-a35f67809fe2"
      },
      "outputs": [
        {
          "output_type": "stream",
          "name": "stderr",
          "text": [
            "Downloading: \"https://download.pytorch.org/models/resnet50-0676ba61.pth\" to /root/.cache/torch/hub/checkpoints/resnet50-0676ba61.pth\n",
            "100%|██████████| 97.8M/97.8M [00:00<00:00, 231MB/s]\n"
          ]
        }
      ],
      "source": [
        "# VisualBERT is based on BERT, so we tokenize tweets using the same vocabulary. The uncased version is robust to informal Twitter language (e.g., capital letters, hashtags).\n",
        "#updated deprecated code here\n",
        "resnet50 = resnet50(weights=ResNet50_Weights.IMAGENET1K_V1)\n",
        "resnet50.fc = nn.Identity()\n",
        "resnet50 = resnet50.to(device)\n",
        "resnet50.eval()\n",
        "\n",
        "# Freeze all layers in ResNet\n",
        "for param in resnet50.parameters():\n",
        "    param.requires_grad = False\n",
        "\n",
        "for param in list(resnet50.parameters())[-20:]:\n",
        "    param.requires_grad = True\n",
        "\n",
        "\n",
        "\n",
        "resnet152 = resnet152(weights=ResNet152_Weights.IMAGENET1K_V1)\n",
        "resnet152.fc = nn.Identity()\n",
        "resnet152 = resnet152.to(device)\n",
        "resnet152.eval()\n",
        "\n",
        "\n",
        "# Freeze all layers in ResNet\n",
        "for param in resnet152.parameters():\n",
        "    param.requires_grad = False\n",
        "\n",
        "for param in list(resnet152.parameters())[-20:]:\n",
        "    param.requires_grad = True"
      ]
    },
    {
      "cell_type": "markdown",
      "source": [
        "## DINOv2 feature extractor setup\n",
        "\n",
        "**DINOv2 Vision Transformer**:\n",
        "- Uses `facebook/dinov2-base`, a self-supervised vision transformer from Meta AI.\n",
        "- Outputs high-quality semantic features that align well with transformer-based multimodal models like VisualBERT.\n",
        "\n",
        "- All layers in are frozen (no gradient updates during training).\n",
        "- The last 20 layers are optionally unfrozen to allow fine-tuning of deeper features, striking a balance between efficiency and model adaptability.\n",
        "\n",
        "- A linear projection layer is added to generate 2048 sized embedings\n"
      ],
      "metadata": {
        "id": "xamcSpUlEVc1"
      }
    },
    {
      "cell_type": "markdown",
      "source": [
        "### install needed packages"
      ],
      "metadata": {
        "id": "IQ3nxEHgiSDy"
      }
    },
    {
      "cell_type": "code",
      "source": [
        "!pip install timm"
      ],
      "metadata": {
        "id": "emyBwgtXVkXM"
      },
      "execution_count": null,
      "outputs": []
    },
    {
      "cell_type": "code",
      "source": [
        "from transformers import AutoModel, AutoImageProcessor\n",
        "import torch\n",
        "\n",
        "processor = AutoImageProcessor.from_pretrained(\"facebook/dinov2-base\")\n",
        "dinov2 = AutoModel.from_pretrained(\"facebook/dinov2-base\")\n",
        "\n",
        "dinov2.eval()\n",
        "dinov2.to(device)\n",
        "\n",
        "# Freeze all parameters of DINOv2\n",
        "for param in dinov2.parameters():\n",
        "    param.requires_grad = False\n",
        "# Optionally unfreeze the last few layers (fine-tuning)\n",
        "for param in list(dinov2.parameters())[-20:]:\n",
        "    param.requires_grad = True"
      ],
      "metadata": {
        "id": "n6RuJ7tzEUcx"
      },
      "execution_count": 45,
      "outputs": []
    },
    {
      "cell_type": "markdown",
      "source": [
        "### Projecting DINOv2 Embeddings to VisualBERT Format\n",
        "DINOv2 outputs a 768-dimensional pooled feature vector. To match VisualBERT's visual_embeds format (typically 2048-dimensional), a projection layer is added."
      ],
      "metadata": {
        "id": "D4sCSWO6is25"
      }
    },
    {
      "cell_type": "code",
      "source": [
        "class ProjectedDINO(nn.Module):\n",
        "    def __init__(self, dinov2):\n",
        "        super().__init__()\n",
        "        self.dinov2 = dinov2\n",
        "        self.proj = nn.Linear(768, 2048)  # match VisualBERT visual_embeds\n",
        "\n",
        "    def forward(self, pixel_values):  # Accept keyword 'pixel_values'\n",
        "        with torch.no_grad():\n",
        "            features = self.dinov2(pixel_values=pixel_values).pooler_output\n",
        "        return self.proj(features)\n"
      ],
      "metadata": {
        "id": "ulDhX8yiYHOf"
      },
      "execution_count": 46,
      "outputs": []
    },
    {
      "cell_type": "code",
      "source": [
        "projected_dinov2 = ProjectedDINO(dinov2).to(device)\n"
      ],
      "metadata": {
        "id": "7vvm5y4HYH_b"
      },
      "execution_count": 47,
      "outputs": []
    },
    {
      "cell_type": "markdown",
      "metadata": {
        "id": "yLEqPouNxTV9"
      },
      "source": [
        "##  Custom Dataset Class: `CrisisDataset`\n",
        "\n",
        "This cell defines a custom PyTorch `Dataset` class tailored for multimodal crisis data, combining both text and image features.\n",
        "\n",
        "\n"
      ]
    },
    {
      "cell_type": "code",
      "execution_count": 52,
      "metadata": {
        "id": "AFtd8ciPxTV9"
      },
      "outputs": [],
      "source": [
        "# Custom dataset class to return tokenized text, processed image, and label for each data sample.\n",
        "class CrisisDataset(Dataset):\n",
        "    def __init__(self, hf_dataset, tokenizer, transform):\n",
        "        self.data = hf_dataset\n",
        "        self.tokenizer = tokenizer\n",
        "        self.transform = transform\n",
        "\n",
        "    def __len__(self):\n",
        "        return len(self.data)\n",
        "\n",
        "    def __getitem__(self, idx):\n",
        "        example = self.data[idx]\n",
        "        text = example['tweet_text']\n",
        "        label = label2id[example['label']]\n",
        "        encoded = self.tokenizer(text, padding='max_length', truncation=True, max_length=MAX_SEQ_LENGTH, return_tensors='pt')\n",
        "        input_ids = encoded['input_ids'].squeeze(0)\n",
        "        attention_mask = encoded['attention_mask'].squeeze(0)\n",
        "        image_path = example['image']\n",
        "\n",
        "        try:\n",
        "            image = Image.open(image_path).convert('RGB')  # now image_path is defined\n",
        "            image = self.transform(image)\n",
        "        except:\n",
        "            image = torch.zeros((3, 224, 224))\n",
        "\n",
        "        return {\n",
        "            'input_ids': input_ids,\n",
        "            'attention_mask': attention_mask,\n",
        "            'image': image,\n",
        "            'label': torch.tensor(label)\n",
        "        }"
      ]
    },
    {
      "cell_type": "markdown",
      "metadata": {
        "id": "5xx6gPlLxTV9"
      },
      "source": [
        "## VisualBERT-Based Multimodal Classifier\n",
        "\n",
        "This cell defines a custom PyTorch neural network called `VisualBERTClassifier`, which uses the `VisualBertModel` to combine both text and image features for classification.\n",
        "\n",
        "#### Initialization (`__init__`)\n",
        "- **VisualBERT Backbone**:\n",
        "  - Loads a pre-trained VisualBERT model (`uclanlp/visualbert-vqa-coco-pre`), which is originally trained on Visual Question Answering (VQA) data.\n",
        "  - All layers are frozen to prevent them from updating during training.\n",
        "  - The last two encoder layers are selectively unfrozen to allow limited fine-tuning and improve task-specific adaptation.\n",
        "\n",
        "- **Model Architecture**:\n",
        "  - `hidden_size`: Size of the pooled output from VisualBERT (typically 768).\n",
        "  - A fully connected layer (`fc1`) reduces dimensionality to an intermediate size (e.g., 512).\n",
        "  - `LayerNorm` normalizes the intermediate features to stabilize training.\n",
        "  - Dropout layers are added before and after the dense layers to prevent overfitting.\n",
        "  - The final layer (`fc2`) outputs logits for binary classification (2 classes).\n",
        "\n",
        "#### Forward Pass (`forward`)\n",
        "- Takes in:\n",
        "  - `input_ids` and `attention_mask` for the textual input.\n",
        "  - `visual_embeds` containing image features extracted by ResNet.\n",
        "- Feeds inputs through the VisualBERT model and extracts the pooled output.\n",
        "- Applies dropout, dense transformation, activation (ReLU), normalization, and a final linear layer to produce the logits.\n",
        "\n",
        "This model forms the core of the multimodal classification system, integrating text and vision in a unified architecture.\n"
      ]
    },
    {
      "cell_type": "code",
      "execution_count": 15,
      "metadata": {
        "id": "eKpu7rM0xTV9"
      },
      "outputs": [],
      "source": [
        "# VisualBERT-based classifier\n",
        "class VisualBERTClassifier(nn.Module):\n",
        "    def __init__(self):\n",
        "        super(VisualBERTClassifier, self).__init__()\n",
        "        self.bert = VisualBertModel.from_pretrained(\"uclanlp/visualbert-vqa-coco-pre\")\n",
        "\n",
        "        # Freeze all layers of VisualBERT\n",
        "        for param in self.bert.parameters():\n",
        "            param.requires_grad = False\n",
        "\n",
        "        # Optionally unfreeze just the last 2 encoder layers\n",
        "        for param in self.bert.encoder.layer[-2:].parameters():\n",
        "            param.requires_grad = True\n",
        "\n",
        "        # Dimensions\n",
        "        hidden_size = self.bert.config.hidden_size  # Example: 768\n",
        "        intermediate_size = 512  # You can even try 256 later for faster training\n",
        "\n",
        "        # Layers\n",
        "        self.dropout1 = nn.Dropout(0.5)\n",
        "        self.fc1 = nn.Linear(hidden_size, intermediate_size)\n",
        "        self.norm = nn.LayerNorm(intermediate_size)\n",
        "        self.dropout2 = nn.Dropout(0.5)\n",
        "        self.fc2 = nn.Linear(intermediate_size, 2)\n",
        "\n",
        "    def forward(self, input_ids, attention_mask, visual_embeds):\n",
        "        outputs = self.bert(\n",
        "            input_ids=input_ids,\n",
        "            attention_mask=attention_mask,\n",
        "            visual_embeds=visual_embeds\n",
        "        )\n",
        "        pooled = outputs.pooler_output\n",
        "\n",
        "        x = self.dropout1(pooled)\n",
        "        x = F.relu(self.fc1(x))\n",
        "        x = self.norm(x)\n",
        "        x = self.dropout2(x)\n",
        "        logits = self.fc2(x)\n",
        "\n",
        "        return logits"
      ]
    },
    {
      "cell_type": "code",
      "source": [
        "class VisualBERTClassifier_DINOv2(nn.Module):\n",
        "    def __init__(self):\n",
        "        super(VisualBERTClassifier_DINOv2, self).__init__()\n",
        "        self.bert = VisualBertModel.from_pretrained(\"uclanlp/visualbert-vqa-coco-pre\")\n",
        "\n",
        "        # Freeze all layers of VisualBERT\n",
        "        for param in self.bert.parameters():\n",
        "            param.requires_grad = False\n",
        "\n",
        "        # Optionally unfreeze just the last 2 encoder layers\n",
        "        for param in self.bert.encoder.layer[-2:].parameters():\n",
        "            param.requires_grad = True\n",
        "\n",
        "        hidden_size = self.bert.config.hidden_size\n",
        "        intermediate_size = 512\n",
        "\n",
        "        self.dropout1 = nn.Dropout(0.5)\n",
        "        self.fc1 = nn.Linear(hidden_size, intermediate_size)\n",
        "        self.norm = nn.LayerNorm(intermediate_size)\n",
        "        self.dropout2 = nn.Dropout(0.5)\n",
        "        self.fc2 = nn.Linear(intermediate_size, 2)\n",
        "\n",
        "    def forward(self, input_ids, attention_mask, visual_embeds, visual_attention_mask):\n",
        "        outputs = self.bert(\n",
        "            input_ids=input_ids,\n",
        "            attention_mask=attention_mask,\n",
        "            visual_embeds=visual_embeds,\n",
        "            visual_attention_mask=visual_attention_mask,  # <- pass this!\n",
        "        )\n",
        "        pooled = outputs.pooler_output\n",
        "\n",
        "        x = self.dropout1(pooled)\n",
        "        x = F.relu(self.fc1(x))\n",
        "        x = self.norm(x)\n",
        "        x = self.dropout2(x)\n",
        "        logits = self.fc2(x)\n",
        "\n",
        "        return logits\n"
      ],
      "metadata": {
        "id": "pgwejegBamGH"
      },
      "execution_count": 16,
      "outputs": []
    },
    {
      "cell_type": "markdown",
      "metadata": {
        "id": "RMm6pLxHxTV9"
      },
      "source": [
        "## Model Initialization, Class Weights, Dataloaders, and Optimizer Setup\n",
        "\n",
        "These cells prepares the core training components of the multimodal classifier:\n",
        "\n"
      ]
    },
    {
      "cell_type": "code",
      "execution_count": 36,
      "metadata": {
        "id": "s4Dj29ipxTV9"
      },
      "outputs": [],
      "source": [
        "# Initialize model\n",
        "model_50 = VisualBERTClassifier().to(device)\n",
        "model_152 = VisualBERTClassifier().to(device)\n"
      ]
    },
    {
      "cell_type": "code",
      "source": [
        "model_Dino_v2 = VisualBERTClassifier_DINOv2().to(device)"
      ],
      "metadata": {
        "id": "Y2yLRM3eb6aC"
      },
      "execution_count": 44,
      "outputs": []
    },
    {
      "cell_type": "code",
      "execution_count": 18,
      "metadata": {
        "id": "lC477VssxTV-"
      },
      "outputs": [],
      "source": [
        "# Weighted CrossEntropyLoss to address class imbalance\n",
        "import torch.nn as nn\n",
        "\n",
        "# Class counts from training data\n",
        "train_counts = {'informative': 6345, 'not_informative': 3256}\n",
        "total = train_counts['informative'] + train_counts['not_informative']\n",
        "\n",
        "# Compute class weights (inverse frequency)\n",
        "weight_uninformative = total / (2 * train_counts['not_informative'])\n",
        "weight_informative = total / (2 * train_counts['informative'])\n",
        "\n",
        "class_weights = torch.tensor([weight_uninformative, weight_informative], dtype=torch.float).to(device)\n",
        "loss_fn = nn.CrossEntropyLoss(weight=class_weights)\n"
      ]
    },
    {
      "cell_type": "code",
      "execution_count": 38,
      "metadata": {
        "id": "rvG8ymmyxTV-"
      },
      "outputs": [],
      "source": [
        "# Load datasets\n",
        "train_data = CrisisDataset(train_dataset, tokenizer, image_transform)\n",
        "val_data = CrisisDataset(val_dataset, tokenizer, image_transform)\n",
        "test_data = CrisisDataset(test_dataset, tokenizer, image_transform)\n",
        "\n",
        "train_loader = DataLoader(train_data, batch_size=BATCH_SIZE, shuffle=SHUFFLE, num_workers=WORKERS, pin_memory=PIN_MEMORY)\n",
        "val_loader = DataLoader(val_data, batch_size=BATCH_SIZE, num_workers=WORKERS, pin_memory=PIN_MEMORY)\n",
        "test_loader = DataLoader(test_data, batch_size=BATCH_SIZE, num_workers=WORKERS, pin_memory=PIN_MEMORY)\n",
        "\n",
        "# Loss and optimizer\n",
        "optimizer_50 = torch.optim.AdamW(model_50.parameters(), lr=LEARNING_RATE, weight_decay=WEIGHT_DECAY)\n",
        "scheduler_50 = ReduceLROnPlateau(optimizer_50, mode='min', patience=PATIENCE, factor=FACTOR, verbose=True)\n",
        "\n",
        "\n",
        "\n",
        "# Loss and optimizer\n",
        "optimizer_152 = torch.optim.AdamW(model_152.parameters(), lr=LEARNING_RATE, weight_decay=WEIGHT_DECAY)\n",
        "scheduler_152 = ReduceLROnPlateau(optimizer_152, mode='min', patience=PATIENCE, factor=FACTOR, verbose=True)"
      ]
    },
    {
      "cell_type": "code",
      "source": [
        "# Loss and optimizer\n",
        "optimizer_DINOv2 = torch.optim.AdamW(model_Dino_v2.parameters(), lr=LEARNING_RATE, weight_decay=WEIGHT_DECAY)\n",
        "scheduler_DINOv2 = ReduceLROnPlateau(optimizer_DINOv2, mode='min', patience=PATIENCE, factor=FACTOR, verbose=True)"
      ],
      "metadata": {
        "id": "sOpJUYgqvYUP"
      },
      "execution_count": 49,
      "outputs": []
    },
    {
      "cell_type": "markdown",
      "metadata": {
        "id": "pnLgWdN3xTV-"
      },
      "source": [
        "## Training Function with Mixed Precision and Validation\n",
        "\n",
        "This cell defines the `train_model` function to train the `VisualBERTClassifier` using a ResNet image encoder, leveraging **mixed precision training** for improved efficiency on GPUs.\n",
        "\n",
        "#### Mixed Precision Setup\n",
        "- Uses `torch.amp.autocast` and `GradScaler` for automatic mixed precision (AMP) training, which:\n",
        "  - Reduces memory usage.\n",
        "  - Speeds up training on supported hardware (like NVIDIA GPUs).\n",
        "- `GradScaler` helps prevent underflow when using lower-precision floats by scaling gradients dynamically.\n",
        "\n",
        "#### Training Loop\n",
        "- For each epoch:\n",
        "  - Iterates through batches from the `train_loader`.\n",
        "  - Sends inputs (text, images, labels) to the device.\n",
        "  - **Image features** are extracted using the frozen ResNet model (`visual_embeds = resnet(images)`), with gradients disabled.\n",
        "  - Visual features are unsqueezed to fit the expected shape for `VisualBERT`.\n",
        "  - **Forward pass** is done under `autocast` context for mixed precision.\n",
        "  - **Loss** is computed using a class-weighted cross-entropy loss.\n",
        "  - **Backpropagation** uses `scaler.scale(loss).backward()` to handle precision safely.\n",
        "  - Optimizer and scaler are updated per batch.\n",
        "  - Tracks cumulative training loss and accuracy.\n",
        "\n",
        "#### Validation Phase\n",
        "- After each epoch, the model switches to evaluation mode with `model.eval()`.\n",
        "- Computes validation loss and accuracy without gradient tracking.\n",
        "- Uses the same image-text processing pipeline as training.\n",
        "- Metrics are stored in the `history` dictionary.\n",
        "\n",
        "#### Output\n",
        "- After each epoch, prints training and validation loss/accuracy.\n",
        "- Returns a `history` dictionary containing:\n",
        "  - `train_loss`, `train_acc`, `val_loss`, `val_acc` for plotting and analysis.\n",
        "\n",
        "This modular and efficient function supports training multimodal models with large datasets, handling both performance and stability.\n"
      ]
    },
    {
      "cell_type": "code",
      "execution_count": 31,
      "metadata": {
        "id": "unAO3sWIxTV-"
      },
      "outputs": [],
      "source": [
        "\n",
        "from torch.amp import autocast, GradScaler\n",
        "\n",
        "scaler = torch.amp.GradScaler('cuda')\n",
        "\n",
        "def train_model(model, resnet, train_loader, val_loader, optimizer, loss_fn, device, epochs):\n",
        "    model.to(device)\n",
        "    resnet.to(device)\n",
        "    model.train()\n",
        "\n",
        "    history = {\n",
        "        'train_loss': [],\n",
        "        'val_loss': [],\n",
        "        'train_acc': [],\n",
        "        'val_acc': []\n",
        "    }\n",
        "\n",
        "    for epoch in range(epochs):\n",
        "        total_loss = 0\n",
        "        correct = 0\n",
        "        total = 0\n",
        "\n",
        "        for batch in train_loader:\n",
        "            input_ids = batch['input_ids'].to(device)\n",
        "            attention_mask = batch['attention_mask'].to(device)\n",
        "            images = batch['image'].to(device)\n",
        "            labels = batch['label'].to(device)\n",
        "\n",
        "            optimizer.zero_grad()\n",
        "\n",
        "            with torch.no_grad():\n",
        "                visual_embeds = resnet(images)\n",
        "            visual_embeds = visual_embeds.unsqueeze(1)\n",
        "\n",
        "            with autocast(\"cuda\"):\n",
        "                logits = model(input_ids=input_ids, attention_mask=attention_mask, visual_embeds=visual_embeds)\n",
        "                loss = loss_fn(logits, labels)\n",
        "\n",
        "            scaler.scale(loss).backward()\n",
        "            scaler.step(optimizer)\n",
        "            scaler.update()\n",
        "\n",
        "            total_loss += loss.item()\n",
        "            preds = torch.argmax(logits, dim=1)\n",
        "            correct += (preds == labels).sum().item()\n",
        "            total += labels.size(0)\n",
        "\n",
        "        avg_loss = total_loss / len(train_loader)\n",
        "        accuracy = correct / total\n",
        "\n",
        "        # Validation\n",
        "        model.eval()\n",
        "        val_loss = 0\n",
        "        val_correct = 0\n",
        "        val_total = 0\n",
        "\n",
        "        with torch.no_grad():\n",
        "            for batch in val_loader:\n",
        "                input_ids = batch['input_ids'].to(device)\n",
        "                attention_mask = batch['attention_mask'].to(device)\n",
        "                images = batch['image'].to(device)\n",
        "                labels = batch['label'].to(device)\n",
        "\n",
        "                visual_embeds = resnet(images)\n",
        "                visual_embeds = visual_embeds.unsqueeze(1)\n",
        "\n",
        "                with autocast(\"cuda\"):\n",
        "                    logits = model(input_ids=input_ids, attention_mask=attention_mask, visual_embeds=visual_embeds)\n",
        "                    loss = loss_fn(logits, labels)\n",
        "\n",
        "                val_loss += loss.item()\n",
        "                preds = torch.argmax(logits, dim=1)\n",
        "                val_correct += (preds == labels).sum().item()\n",
        "                val_total += labels.size(0)\n",
        "\n",
        "        avg_val_loss = val_loss / len(val_loader)\n",
        "        val_accuracy = val_correct / val_total\n",
        "\n",
        "        model.train()\n",
        "\n",
        "        history['train_loss'].append(avg_loss)\n",
        "        history['train_acc'].append(accuracy)\n",
        "        history['val_loss'].append(avg_val_loss)\n",
        "        history['val_acc'].append(val_accuracy)\n",
        "\n",
        "        print(f\"Epoch {epoch+1} - Loss: {avg_loss:.4f} - Accuracy: {accuracy:.2f} | Val Loss: {avg_val_loss:.4f} - Val Accuracy: {val_accuracy:.2f}\")\n",
        "\n",
        "    return history\n"
      ]
    },
    {
      "cell_type": "code",
      "source": [
        "from torch.amp import autocast, GradScaler\n",
        "\n",
        "scaler = torch.amp.GradScaler('cuda')\n",
        "\n",
        "def extract_visual_embeddings(images):\n",
        "    with torch.no_grad():\n",
        "        inputs = processor(images=images, return_tensors=\"pt\").to(device)\n",
        "        projected = projected_dinov2(**inputs)  # This is already the final visual embed\n",
        "        return projected.unsqueeze(1)  # shape (B, 1, hidden_dim)\n",
        "\n",
        "\n",
        "def train_model_DINOv2(model, train_loader, val_loader, optimizer, loss_fn, device, epochs):\n",
        "    history = {'train_loss': [], 'val_loss': [], 'train_acc': [], 'val_acc': []}\n",
        "\n",
        "    for epoch in range(epochs):\n",
        "        model.train()\n",
        "        total_loss, correct, total = 0, 0, 0\n",
        "\n",
        "        for batch in train_loader:\n",
        "            input_ids = batch['input_ids'].to(device)\n",
        "            attention_mask = batch['attention_mask'].to(device)\n",
        "            images = batch['image'].to(device)\n",
        "            labels = batch['label'].to(device)\n",
        "\n",
        "            optimizer.zero_grad()\n",
        "\n",
        "            visual_embeds = extract_visual_embeddings(images)\n",
        "            visual_attention_mask = torch.ones(visual_embeds.size()[:-1], dtype=torch.long).to(device)  # (B, 1)\n",
        "\n",
        "            # Remove autocast here\n",
        "\n",
        "            with autocast(\"cuda\"):\n",
        "                logits = model(input_ids=input_ids,\n",
        "                               attention_mask=attention_mask,\n",
        "                               visual_embeds=visual_embeds,\n",
        "                               visual_attention_mask=visual_attention_mask,)\n",
        "                loss = loss_fn(logits, labels)\n",
        "\n",
        "            scaler.scale(loss).backward()\n",
        "            scaler.step(optimizer)\n",
        "            scaler.update()\n",
        "\n",
        "\n",
        "            total_loss += loss.item()\n",
        "            preds = torch.argmax(logits, dim=1)\n",
        "            correct += (preds == labels).sum().item()\n",
        "            total += labels.size(0)\n",
        "\n",
        "        avg_loss = total_loss / len(train_loader)\n",
        "        accuracy = correct / total\n",
        "\n",
        "        # Validation\n",
        "        model.eval()\n",
        "        val_loss, val_correct, val_total = 0, 0, 0\n",
        "        with torch.no_grad():\n",
        "            for batch in val_loader:\n",
        "                input_ids = batch['input_ids'].to(device)\n",
        "                attention_mask = batch['attention_mask'].to(device)\n",
        "                images = batch['image'].to(device)\n",
        "                labels = batch['label'].to(device)\n",
        "\n",
        "                visual_embeds = extract_visual_embeddings(images)\n",
        "                visual_attention_mask = torch.ones(visual_embeds.size()[:-1], dtype=torch.long).to(device)\n",
        "\n",
        "\n",
        "                with autocast(\"cuda\"):\n",
        "                    logits = model(input_ids=input_ids, attention_mask=attention_mask, visual_embeds=visual_embeds, visual_attention_mask=visual_attention_mask,)\n",
        "                    loss = loss_fn(logits, labels)\n",
        "\n",
        "                val_loss += loss.item()\n",
        "                preds = torch.argmax(logits, dim=1)\n",
        "                val_correct += (preds == labels).sum().item()\n",
        "                val_total += labels.size(0)\n",
        "\n",
        "        avg_val_loss = val_loss / len(val_loader)\n",
        "        val_accuracy = val_correct / val_total\n",
        "\n",
        "        scheduler.step(avg_val_loss)\n",
        "\n",
        "        history['train_loss'].append(avg_loss)\n",
        "        history['train_acc'].append(accuracy)\n",
        "        history['val_loss'].append(avg_val_loss)\n",
        "        history['val_acc'].append(val_accuracy)\n",
        "\n",
        "        print(f\"Epoch {epoch+1} - Loss: {avg_loss:.4f} - Accuracy: {accuracy:.2f} | Val Loss: {avg_val_loss:.4f} - Val Accuracy: {val_accuracy:.2f}\")\n",
        "\n",
        "    return history\n"
      ],
      "metadata": {
        "id": "-fDuiPovPUmh"
      },
      "execution_count": 22,
      "outputs": []
    },
    {
      "cell_type": "markdown",
      "metadata": {
        "id": "uEydxXYWxTV-"
      },
      "source": [
        "## Evaluation Setup\n"
      ]
    },
    {
      "cell_type": "markdown",
      "metadata": {
        "id": "uGYxNTlSxTV-"
      },
      "source": [
        "### Evaluation Functions: `evaluate_model` and `evaluate_model_DINOv2`\n",
        "\n",
        "These reusable functions evaluates the model on any dataset split (validation or test) and prints a detailed classification report."
      ]
    },
    {
      "cell_type": "code",
      "execution_count": 24,
      "metadata": {
        "id": "PaaUtDEKxTV-"
      },
      "outputs": [],
      "source": [
        "from sklearn.metrics import classification_report\n",
        "\n",
        "def evaluate_model(model, resnet, dataloader, device, loss_fn, split_name=\"Validation\"):\n",
        "    model.eval()\n",
        "    val_loss = 0.0\n",
        "    all_preds, all_labels = [], []\n",
        "\n",
        "    with torch.no_grad():\n",
        "        for batch in dataloader:\n",
        "            input_ids = batch['input_ids'].to(device)\n",
        "            attention_mask = batch['attention_mask'].to(device)\n",
        "            images = batch['image'].to(device)\n",
        "            labels = batch['label'].to(device)\n",
        "\n",
        "            visual_embeds = resnet(images).unsqueeze(1)\n",
        "            logits = model(input_ids=input_ids, attention_mask=attention_mask, visual_embeds=visual_embeds)\n",
        "\n",
        "            loss = loss_fn(logits, labels)\n",
        "            val_loss += loss.item()\n",
        "\n",
        "            preds = torch.argmax(logits, dim=1)\n",
        "            all_preds.extend(preds.cpu().tolist())\n",
        "            all_labels.extend(labels.cpu().tolist())\n",
        "\n",
        "    val_loss /= len(dataloader)\n",
        "    print(f\"\\n{split_name} Loss: {val_loss:.4f}\")\n",
        "    print(f\"{split_name} Report:\\n\", classification_report(all_labels, all_preds, zero_division=0, target_names=['Uninformative', 'Informative']))\n",
        "    return val_loss\n"
      ]
    },
    {
      "cell_type": "code",
      "source": [
        "from sklearn.metrics import classification_report\n",
        "\n",
        "def evaluate_model_DINOv2(model, dinov2, dataloader, device, loss_fn, split_name=\"Validation\"):\n",
        "    model.eval()\n",
        "    val_loss = 0.0\n",
        "    all_preds, all_labels = [], []\n",
        "\n",
        "    with torch.no_grad():\n",
        "        for batch in dataloader:\n",
        "            input_ids = batch['input_ids'].to(device)\n",
        "            attention_mask = batch['attention_mask'].to(device)\n",
        "            images = batch['image'].to(device)\n",
        "            labels = batch['label'].to(device)\n",
        "\n",
        "            # Get visual embeddings from DINOv2\n",
        "            visual_embeds = extract_visual_embeddings(images)\n",
        "            visual_attention_mask = torch.ones(visual_embeds.size()[:-1], dtype=torch.long).to(device)  # (B, 1)\n",
        "\n",
        "\n",
        "            logits = model(input_ids=input_ids, attention_mask=attention_mask, visual_embeds=visual_embeds, visual_attention_mask=visual_attention_mask)\n",
        "\n",
        "            loss = loss_fn(logits, labels)\n",
        "            val_loss += loss.item()\n",
        "\n",
        "            preds = torch.argmax(logits, dim=1)\n",
        "            all_preds.extend(preds.cpu().tolist())\n",
        "            all_labels.extend(labels.cpu().tolist())\n",
        "\n",
        "    val_loss /= len(dataloader)\n",
        "    print(f\"\\n{split_name} Loss: {val_loss:.4f}\")\n",
        "    print(f\"{split_name} Report:\\n\", classification_report(all_labels, all_preds, zero_division=0, target_names=['Uninformative', 'Informative']))\n",
        "    return val_loss\n"
      ],
      "metadata": {
        "id": "8z1-NM7yQc9J"
      },
      "execution_count": 25,
      "outputs": []
    },
    {
      "cell_type": "markdown",
      "metadata": {
        "id": "7U1YPmD1xTV-"
      },
      "source": [
        "## Training and Evaluation"
      ]
    },
    {
      "cell_type": "markdown",
      "source": [
        "### Resnet50 + VisualBert"
      ],
      "metadata": {
        "id": "zKNkNeI6oRkP"
      }
    },
    {
      "cell_type": "code",
      "execution_count": 39,
      "metadata": {
        "colab": {
          "base_uri": "https://localhost:8080/"
        },
        "id": "YJzoGZ2pxTV-",
        "outputId": "c38f1e82-6a8c-4bd8-8491-cf2fe3ba652e"
      },
      "outputs": [
        {
          "output_type": "stream",
          "name": "stdout",
          "text": [
            "Epoch 1 - Loss: 0.7609 - Accuracy: 0.56 | Val Loss: 0.5693 - Val Accuracy: 0.81\n",
            "Epoch 2 - Loss: 0.5479 - Accuracy: 0.75 | Val Loss: 0.5165 - Val Accuracy: 0.81\n",
            "Epoch 3 - Loss: 0.4963 - Accuracy: 0.77 | Val Loss: 0.4782 - Val Accuracy: 0.83\n",
            "Epoch 4 - Loss: 0.4702 - Accuracy: 0.79 | Val Loss: 0.4375 - Val Accuracy: 0.83\n",
            "Epoch 5 - Loss: 0.4361 - Accuracy: 0.81 | Val Loss: 0.4735 - Val Accuracy: 0.84\n",
            "Epoch 6 - Loss: 0.4267 - Accuracy: 0.81 | Val Loss: 0.4243 - Val Accuracy: 0.84\n",
            "Epoch 7 - Loss: 0.4143 - Accuracy: 0.82 | Val Loss: 0.4042 - Val Accuracy: 0.84\n",
            "Epoch 8 - Loss: 0.3931 - Accuracy: 0.83 | Val Loss: 0.3896 - Val Accuracy: 0.84\n",
            "Epoch 9 - Loss: 0.3791 - Accuracy: 0.83 | Val Loss: 0.3903 - Val Accuracy: 0.85\n",
            "Epoch 10 - Loss: 0.3640 - Accuracy: 0.84 | Val Loss: 0.4064 - Val Accuracy: 0.85\n",
            "Epoch 11 - Loss: 0.3563 - Accuracy: 0.85 | Val Loss: 0.4245 - Val Accuracy: 0.85\n",
            "Epoch 12 - Loss: 0.3390 - Accuracy: 0.85 | Val Loss: 0.4813 - Val Accuracy: 0.84\n",
            "Epoch 13 - Loss: 0.3342 - Accuracy: 0.86 | Val Loss: 0.4325 - Val Accuracy: 0.85\n",
            "Epoch 14 - Loss: 0.3156 - Accuracy: 0.87 | Val Loss: 0.4203 - Val Accuracy: 0.85\n",
            "Epoch 15 - Loss: 0.3080 - Accuracy: 0.87 | Val Loss: 0.4281 - Val Accuracy: 0.85\n",
            "Epoch 16 - Loss: 0.2983 - Accuracy: 0.87 | Val Loss: 0.4276 - Val Accuracy: 0.85\n",
            "Epoch 17 - Loss: 0.2863 - Accuracy: 0.87 | Val Loss: 0.4128 - Val Accuracy: 0.85\n",
            "Epoch 18 - Loss: 0.2890 - Accuracy: 0.89 | Val Loss: 0.5196 - Val Accuracy: 0.86\n",
            "Epoch 19 - Loss: 0.2535 - Accuracy: 0.89 | Val Loss: 0.4973 - Val Accuracy: 0.85\n",
            "Epoch 20 - Loss: 0.2531 - Accuracy: 0.89 | Val Loss: 0.4701 - Val Accuracy: 0.84\n",
            "\n",
            "Validation Loss: 0.4701\n",
            "Validation Report:\n",
            "                precision    recall  f1-score   support\n",
            "\n",
            "Uninformative       0.75      0.78      0.76       517\n",
            "  Informative       0.89      0.88      0.88      1056\n",
            "\n",
            "     accuracy                           0.84      1573\n",
            "    macro avg       0.82      0.83      0.82      1573\n",
            " weighted avg       0.84      0.84      0.84      1573\n",
            "\n",
            "\n",
            "Test Loss: 0.4839\n",
            "Test Report:\n",
            "                precision    recall  f1-score   support\n",
            "\n",
            "Uninformative       0.75      0.79      0.77       504\n",
            "  Informative       0.89      0.87      0.88      1030\n",
            "\n",
            "     accuracy                           0.84      1534\n",
            "    macro avg       0.82      0.83      0.83      1534\n",
            " weighted avg       0.85      0.84      0.85      1534\n",
            "\n"
          ]
        },
        {
          "output_type": "execute_result",
          "data": {
            "text/plain": [
              "0.48385494699080783"
            ]
          },
          "metadata": {},
          "execution_count": 39
        }
      ],
      "source": [
        "# Run training and evaluation\n",
        "history_50 = train_model(model_50, resnet50, train_loader, val_loader, optimizer_50, loss_fn, device, epochs=20)\n",
        "\n",
        "evaluate_model(model_50, resnet50, val_loader, device, loss_fn, \"Validation\")\n",
        "evaluate_model(model_50, resnet50, test_loader, device, loss_fn, \"Test\")"
      ]
    },
    {
      "cell_type": "code",
      "source": [
        "import matplotlib.pyplot as plt\n",
        "\n",
        "# Extract history data\n",
        "train_loss = history_50['train_loss']\n",
        "val_loss = history_50['val_loss']\n",
        "train_acc = history_50['train_acc']\n",
        "val_acc = history_50['val_acc']\n",
        "epochs = range(1, len(train_loss) + 1)\n",
        "\n",
        "# Create subplots\n",
        "plt.figure(figsize=(12, 5))\n",
        "\n",
        "# Plot Loss\n",
        "plt.subplot(1, 2, 1)\n",
        "plt.plot(epochs, train_loss, 'bo-', label='Training Loss')\n",
        "plt.plot(epochs, val_loss, 'ro-', label='Validation Loss')\n",
        "plt.title('Loss over Epochs')\n",
        "plt.xlabel('Epoch')\n",
        "plt.ylabel('Loss')\n",
        "plt.legend()\n",
        "plt.grid(True)\n",
        "\n",
        "# Plot Accuracy\n",
        "plt.subplot(1, 2, 2)\n",
        "plt.plot(epochs, train_acc, 'bo-', label='Training Accuracy')\n",
        "plt.plot(epochs, val_acc, 'ro-', label='Validation Accuracy')\n",
        "plt.title('Accuracy over Epochs')\n",
        "plt.xlabel('Epoch')\n",
        "plt.ylabel('Accuracy')\n",
        "plt.legend()\n",
        "plt.grid(True)\n",
        "\n",
        "# Show plot\n",
        "plt.tight_layout()\n",
        "plt.show()\n"
      ],
      "metadata": {
        "colab": {
          "base_uri": "https://localhost:8080/",
          "height": 506
        },
        "id": "E-Zj8qbteBiA",
        "outputId": "4004ab56-7296-42f6-e8a2-302422747e37"
      },
      "execution_count": 41,
      "outputs": [
        {
          "output_type": "display_data",
          "data": {
            "text/plain": [
              "<Figure size 1200x500 with 2 Axes>"
            ],
            "image/png": "[encoded data removed]"
          },
          "metadata": {}
        }
      ]
    },
    {
      "cell_type": "markdown",
      "source": [
        "### Resnet152 + VisualBert"
      ],
      "metadata": {
        "id": "PmSaqnw0oi9a"
      }
    },
    {
      "cell_type": "code",
      "source": [
        "# Run training and evaluation\n",
        "history_152 = train_model(model_152, resnet152, train_loader, val_loader, optimizer_152, loss_fn, device, epochs=20)\n",
        "\n",
        "evaluate_model(model_152, resnet152, val_loader, device, loss_fn, \"Validation\")\n",
        "evaluate_model(model_152, resnet152, test_loader, device, loss_fn, \"Test\")"
      ],
      "metadata": {
        "colab": {
          "base_uri": "https://localhost:8080/"
        },
        "id": "WEF1Fx_UKNOZ",
        "outputId": "8fd0724b-133b-465d-ee51-d9e08b75b815"
      },
      "execution_count": 42,
      "outputs": [
        {
          "output_type": "stream",
          "name": "stdout",
          "text": [
            "Epoch 1 - Loss: 0.6350 - Accuracy: 0.66 | Val Loss: 0.6078 - Val Accuracy: 0.81\n",
            "Epoch 2 - Loss: 0.5285 - Accuracy: 0.76 | Val Loss: 0.4706 - Val Accuracy: 0.82\n",
            "Epoch 3 - Loss: 0.4852 - Accuracy: 0.78 | Val Loss: 0.4597 - Val Accuracy: 0.83\n",
            "Epoch 4 - Loss: 0.4559 - Accuracy: 0.80 | Val Loss: 0.4494 - Val Accuracy: 0.83\n",
            "Epoch 5 - Loss: 0.4448 - Accuracy: 0.81 | Val Loss: 0.4168 - Val Accuracy: 0.84\n",
            "Epoch 6 - Loss: 0.4304 - Accuracy: 0.81 | Val Loss: 0.4087 - Val Accuracy: 0.84\n",
            "Epoch 7 - Loss: 0.4057 - Accuracy: 0.83 | Val Loss: 0.4665 - Val Accuracy: 0.84\n",
            "Epoch 8 - Loss: 0.3892 - Accuracy: 0.83 | Val Loss: 0.3963 - Val Accuracy: 0.84\n",
            "Epoch 9 - Loss: 0.3888 - Accuracy: 0.84 | Val Loss: 0.4228 - Val Accuracy: 0.84\n",
            "Epoch 10 - Loss: 0.3641 - Accuracy: 0.85 | Val Loss: 0.3809 - Val Accuracy: 0.85\n",
            "Epoch 11 - Loss: 0.3666 - Accuracy: 0.85 | Val Loss: 0.4240 - Val Accuracy: 0.85\n",
            "Epoch 12 - Loss: 0.3503 - Accuracy: 0.85 | Val Loss: 0.4142 - Val Accuracy: 0.84\n",
            "Epoch 13 - Loss: 0.3332 - Accuracy: 0.86 | Val Loss: 0.4112 - Val Accuracy: 0.84\n",
            "Epoch 14 - Loss: 0.3291 - Accuracy: 0.86 | Val Loss: 0.4010 - Val Accuracy: 0.86\n",
            "Epoch 15 - Loss: 0.3061 - Accuracy: 0.87 | Val Loss: 0.4743 - Val Accuracy: 0.85\n",
            "Epoch 16 - Loss: 0.2984 - Accuracy: 0.88 | Val Loss: 0.4584 - Val Accuracy: 0.84\n",
            "Epoch 17 - Loss: 0.2814 - Accuracy: 0.89 | Val Loss: 0.5302 - Val Accuracy: 0.84\n",
            "Epoch 18 - Loss: 0.2775 - Accuracy: 0.89 | Val Loss: 0.4371 - Val Accuracy: 0.85\n",
            "Epoch 19 - Loss: 0.2679 - Accuracy: 0.89 | Val Loss: 0.4706 - Val Accuracy: 0.85\n",
            "Epoch 20 - Loss: 0.2663 - Accuracy: 0.89 | Val Loss: 0.4705 - Val Accuracy: 0.85\n",
            "\n",
            "Validation Loss: 0.4707\n",
            "Validation Report:\n",
            "                precision    recall  f1-score   support\n",
            "\n",
            "Uninformative       0.79      0.74      0.76       517\n",
            "  Informative       0.88      0.91      0.89      1056\n",
            "\n",
            "     accuracy                           0.85      1573\n",
            "    macro avg       0.83      0.82      0.83      1573\n",
            " weighted avg       0.85      0.85      0.85      1573\n",
            "\n",
            "\n",
            "Test Loss: 0.4859\n",
            "Test Report:\n",
            "                precision    recall  f1-score   support\n",
            "\n",
            "Uninformative       0.79      0.76      0.78       504\n",
            "  Informative       0.88      0.90      0.89      1030\n",
            "\n",
            "     accuracy                           0.86      1534\n",
            "    macro avg       0.84      0.83      0.83      1534\n",
            " weighted avg       0.85      0.86      0.86      1534\n",
            "\n"
          ]
        },
        {
          "output_type": "execute_result",
          "data": {
            "text/plain": [
              "0.4858915222187837"
            ]
          },
          "metadata": {},
          "execution_count": 42
        }
      ]
    },
    {
      "cell_type": "code",
      "source": [
        "import matplotlib.pyplot as plt\n",
        "\n",
        "# Extract history data\n",
        "train_loss = history_152['train_loss']\n",
        "val_loss = history_152['val_loss']\n",
        "train_acc = history_152['train_acc']\n",
        "val_acc = history_152['val_acc']\n",
        "epochs = range(1, len(train_loss) + 1)\n",
        "\n",
        "# Create subplots\n",
        "plt.figure(figsize=(12, 5))\n",
        "\n",
        "# Plot Loss\n",
        "plt.subplot(1, 2, 1)\n",
        "plt.plot(epochs, train_loss, 'bo-', label='Training Loss')\n",
        "plt.plot(epochs, val_loss, 'ro-', label='Validation Loss')\n",
        "plt.title('Loss over Epochs')\n",
        "plt.xlabel('Epoch')\n",
        "plt.ylabel('Loss')\n",
        "plt.legend()\n",
        "plt.grid(True)\n",
        "\n",
        "# Plot Accuracy\n",
        "plt.subplot(1, 2, 2)\n",
        "plt.plot(epochs, train_acc, 'bo-', label='Training Accuracy')\n",
        "plt.plot(epochs, val_acc, 'ro-', label='Validation Accuracy')\n",
        "plt.title('Accuracy over Epochs')\n",
        "plt.xlabel('Epoch')\n",
        "plt.ylabel('Accuracy')\n",
        "plt.legend()\n",
        "plt.grid(True)\n",
        "\n",
        "# Show plot\n",
        "plt.tight_layout()\n",
        "plt.show()\n"
      ],
      "metadata": {
        "colab": {
          "base_uri": "https://localhost:8080/",
          "height": 506
        },
        "id": "plLC4VP_eKBw",
        "outputId": "f23b8fc1-15c7-4d10-9dd1-4aae175ec0d3"
      },
      "execution_count": 43,
      "outputs": [
        {
          "output_type": "display_data",
          "data": {
            "text/plain": [
              "<Figure size 1200x500 with 2 Axes>"
            ],
            "image/png": "[encoded data removed]"
          },
          "metadata": {}
        }
      ]
    },
    {
      "cell_type": "markdown",
      "source": [
        "### DINOv2 (ViT) + VisualBert"
      ],
      "metadata": {
        "id": "Y7XzhHVNopvL"
      }
    },
    {
      "cell_type": "code",
      "source": [
        "# Run training and evaluation\n",
        "history_dinov2 = train_model_DINOv2(\n",
        "    model=model_Dino_v2,\n",
        "    train_loader=train_loader,\n",
        "    val_loader=val_loader,\n",
        "    optimizer=optimizer_DINOv2,\n",
        "    loss_fn=loss_fn,\n",
        "    device=device,\n",
        "    epochs=20\n",
        ")\n",
        "evaluate_model_DINOv2(model_Dino_v2, dinov2, val_loader, device, loss_fn, split_name=\"Validation\")\n",
        "evaluate_model_DINOv2(model_Dino_v2, dinov2, test_loader, device, loss_fn, split_name=\"Test\")\n",
        "\n"
      ],
      "metadata": {
        "colab": {
          "base_uri": "https://localhost:8080/"
        },
        "id": "uRq7ByRBQleN",
        "outputId": "9fd1bcd1-e66e-4d4b-c806-053ef6b81400"
      },
      "execution_count": 50,
      "outputs": [
        {
          "output_type": "stream",
          "name": "stdout",
          "text": [
            "Epoch 1 - Loss: 0.7786 - Accuracy: 0.51 | Val Loss: 0.6212 - Val Accuracy: 0.76\n",
            "Epoch 2 - Loss: 0.5701 - Accuracy: 0.72 | Val Loss: 0.4922 - Val Accuracy: 0.82\n",
            "Epoch 3 - Loss: 0.4900 - Accuracy: 0.79 | Val Loss: 0.4347 - Val Accuracy: 0.82\n",
            "Epoch 4 - Loss: 0.4513 - Accuracy: 0.81 | Val Loss: 0.4768 - Val Accuracy: 0.83\n",
            "Epoch 5 - Loss: 0.4494 - Accuracy: 0.81 | Val Loss: 0.4472 - Val Accuracy: 0.84\n",
            "Epoch 6 - Loss: 0.4074 - Accuracy: 0.82 | Val Loss: 0.3795 - Val Accuracy: 0.85\n",
            "Epoch 7 - Loss: 0.3913 - Accuracy: 0.83 | Val Loss: 0.4235 - Val Accuracy: 0.84\n",
            "Epoch 8 - Loss: 0.3758 - Accuracy: 0.83 | Val Loss: 0.4057 - Val Accuracy: 0.85\n",
            "Epoch 9 - Loss: 0.3701 - Accuracy: 0.84 | Val Loss: 0.4264 - Val Accuracy: 0.85\n",
            "Epoch 10 - Loss: 0.3612 - Accuracy: 0.85 | Val Loss: 0.3930 - Val Accuracy: 0.85\n",
            "Epoch 11 - Loss: 0.3481 - Accuracy: 0.85 | Val Loss: 0.4650 - Val Accuracy: 0.85\n",
            "Epoch 12 - Loss: 0.3293 - Accuracy: 0.86 | Val Loss: 0.4026 - Val Accuracy: 0.85\n",
            "Epoch 13 - Loss: 0.3142 - Accuracy: 0.86 | Val Loss: 0.4340 - Val Accuracy: 0.85\n",
            "Epoch 14 - Loss: 0.3064 - Accuracy: 0.87 | Val Loss: 0.4506 - Val Accuracy: 0.85\n",
            "Epoch 15 - Loss: 0.2931 - Accuracy: 0.88 | Val Loss: 0.4458 - Val Accuracy: 0.85\n",
            "Epoch 16 - Loss: 0.2837 - Accuracy: 0.88 | Val Loss: 0.4419 - Val Accuracy: 0.84\n",
            "Epoch 17 - Loss: 0.2746 - Accuracy: 0.89 | Val Loss: 0.4781 - Val Accuracy: 0.84\n",
            "Epoch 18 - Loss: 0.2636 - Accuracy: 0.89 | Val Loss: 0.4444 - Val Accuracy: 0.85\n",
            "Epoch 19 - Loss: 0.2523 - Accuracy: 0.90 | Val Loss: 0.4673 - Val Accuracy: 0.85\n",
            "Epoch 20 - Loss: 0.2332 - Accuracy: 0.90 | Val Loss: 0.4928 - Val Accuracy: 0.85\n",
            "\n",
            "Validation Loss: 0.4927\n",
            "Validation Report:\n",
            "                precision    recall  f1-score   support\n",
            "\n",
            "Uninformative       0.80      0.72      0.76       517\n",
            "  Informative       0.87      0.91      0.89      1056\n",
            "\n",
            "     accuracy                           0.85      1573\n",
            "    macro avg       0.84      0.82      0.83      1573\n",
            " weighted avg       0.85      0.85      0.85      1573\n",
            "\n",
            "\n",
            "Test Loss: 0.5212\n",
            "Test Report:\n",
            "                precision    recall  f1-score   support\n",
            "\n",
            "Uninformative       0.83      0.71      0.77       504\n",
            "  Informative       0.87      0.93      0.90      1030\n",
            "\n",
            "     accuracy                           0.86      1534\n",
            "    macro avg       0.85      0.82      0.83      1534\n",
            " weighted avg       0.85      0.86      0.85      1534\n",
            "\n"
          ]
        },
        {
          "output_type": "execute_result",
          "data": {
            "text/plain": [
              "0.521236297984918"
            ]
          },
          "metadata": {},
          "execution_count": 50
        }
      ]
    },
    {
      "cell_type": "code",
      "source": [
        "import matplotlib.pyplot as plt\n",
        "\n",
        "# Extract history data\n",
        "train_loss = history_dinov2['train_loss']\n",
        "val_loss = history_dinov2['val_loss']\n",
        "train_acc = history_dinov2['train_acc']\n",
        "val_acc = history_dinov2['val_acc']\n",
        "epochs = range(1, len(train_loss) + 1)\n",
        "\n",
        "# Create subplots\n",
        "plt.figure(figsize=(12, 5))\n",
        "\n",
        "# Plot Loss\n",
        "plt.subplot(1, 2, 1)\n",
        "plt.plot(epochs, train_loss, 'bo-', label='Training Loss')\n",
        "plt.plot(epochs, val_loss, 'ro-', label='Validation Loss')\n",
        "plt.title('Loss over Epochs')\n",
        "plt.xlabel('Epoch')\n",
        "plt.ylabel('Loss')\n",
        "plt.legend()\n",
        "plt.grid(True)\n",
        "\n",
        "# Plot Accuracy\n",
        "plt.subplot(1, 2, 2)\n",
        "plt.plot(epochs, train_acc, 'bo-', label='Training Accuracy')\n",
        "plt.plot(epochs, val_acc, 'ro-', label='Validation Accuracy')\n",
        "plt.title('Accuracy over Epochs')\n",
        "plt.xlabel('Epoch')\n",
        "plt.ylabel('Accuracy')\n",
        "plt.legend()\n",
        "plt.grid(True)\n",
        "\n",
        "# Show plot\n",
        "plt.tight_layout()\n",
        "plt.show()\n"
      ],
      "metadata": {
        "colab": {
          "base_uri": "https://localhost:8080/",
          "height": 506
        },
        "id": "MEzbasfJeboj",
        "outputId": "7706ae12-7f32-4b9c-fee0-60868e1e8fc7"
      },
      "execution_count": 51,
      "outputs": [
        {
          "output_type": "display_data",
          "data": {
            "text/plain": [
              "<Figure size 1200x500 with 2 Axes>"
            ],
            "image/png": "[encoded data removed]"
          },
          "metadata": {}
        }
      ]
    },
    {
      "cell_type": "markdown",
      "metadata": {
        "id": "V9of-V6MxTV_"
      },
      "source": [
        "## Stage One Results and Summary\n",
        "\n",
        "### Objective\n",
        "The goal was to build a multimodal classifier using **VisualBERT** to detect whether crisis-related tweets are *Informative* or *Uninformative* based on both the tweet text and its associated image, and experiment with multiple visual encoders, namely, **ResNet-50**, **ResNet-152**, and **DINOv2**.\n",
        "\n",
        "---\n",
        "\n",
        "### Model Performance\n",
        "\n",
        "#### ResNet-50 + VisualBERT\n",
        "- Achieved a validation accuracy of **85%** at the best epoch.\n",
        "- Validation loss stabilized around **0.47**.\n",
        "- Test accuracy was consistent at **84%**.\n",
        "- The model demonstrated strong precision and recall for the *Informative* class (Precision: 0.89, Recall: 0.88) and slightly lower performance on the *Uninformative* class (Precision: 0.75, Recall: 0.78).\n",
        "  \n",
        "#### ResNet-152 + VisualBERT\n",
        "- Achieved the highest validation accuracy of **86%**.\n",
        "- Validation loss was similar to ResNet-50 at approximately **0.47**.\n",
        "- Test accuracy improved slightly to **86%**.\n",
        "- Precision and recall for *Informative* tweets were high (Precision: 0.88, Recall: 0.90), and the *Uninformative* class also improved compared to ResNet-50 (Precision: 0.79, Recall: 0.76).\n",
        "\n",
        "#### DINOv2 (ViT) + VisualBERT\n",
        "- Validation accuracy reached **85%**, matching ResNet-152.\n",
        "- Validation loss was a bit higher at **0.49**, and test loss was also higher (**0.52**).\n",
        "- Precision and recall for *Informative* tweets remained strong (Precision: 0.87, Recall: 0.93).\n",
        "- The *Uninformative* class showed the highest precision among all models (0.83) but had a lower recall (0.71), indicating more missed *Uninformative* samples.\n",
        "\n",
        "---\n",
        "\n",
        "### 🔍 Summary Table\n",
        "\n",
        "| Visual Encoder  | Best Val Accuracy | Val Loss | Test Accuracy | Test Loss | Precision (Informative) | Recall (Informative) | Precision (Uninformative) | Recall (Uninformative) |\n",
        "|-----------------|-------------------|----------|---------------|-----------|------------------------|---------------------|---------------------------|-----------------------|\n",
        "| ResNet-50       | 0.85              | 0.47     | 0.84          | 0.48      | 0.89                   | 0.88                | 0.75                      | 0.78                  |\n",
        "| ResNet-152      | 0.86              | 0.47     | 0.86          | 0.49      | 0.88                   | 0.90                | 0.79                      | 0.76                  |\n",
        "| DINOv2 (ViT)    | 0.85              | 0.49     | 0.86          | 0.52      | 0.87                   | 0.93                | 0.83                      | 0.71                  |\n",
        "\n",
        "---\n",
        "\n",
        "\n",
        "\n",
        "\n",
        "\n"
      ]
    },
    {
      "cell_type": "markdown",
      "metadata": {
        "id": "q8IWXsgexTV_"
      },
      "source": [
        "# Stage 2: Humanitarian Classification (crisismmd2hum)\n",
        "\n",
        "After determining whether a sample is informative in Stage 1, we now perform a **second classification step** to identify whether the image contains **humanitarian content** — i.e., people affected by the disaster.\n"
      ]
    },
    {
      "cell_type": "code",
      "execution_count": null,
      "metadata": {
        "id": "g0iGrvGLxTV_"
      },
      "outputs": [],
      "source": [
        "# Load the Humanitarian Dataset\n",
        "from datasets import load_dataset\n",
        "\n",
        "dataset_hum = load_dataset(\"xiaoxl/crisismmd2hum\")\n",
        "print(dataset_hum)"
      ]
    },
    {
      "cell_type": "code",
      "execution_count": 54,
      "metadata": {
        "colab": {
          "base_uri": "https://localhost:8080/"
        },
        "id": "T-ZGdvKnxTV_",
        "outputId": "72987890-4372-41a3-c8a5-a985ecc92202"
      },
      "outputs": [
        {
          "output_type": "stream",
          "name": "stdout",
          "text": [
            "Columns: ['event_name', 'tweet_id', 'image_id', 'tweet_text', 'image', 'label', 'label_text', 'label_image', 'label_text_image', 'image_path']\n",
            "Train Example: {'event_name': 'california_wildfires', 'tweet_id': 917793137925459968, 'image_id': '917793137925459968_0', 'tweet_text': 'RT @KAKEnews: California wildfires destroy more than 50 structures: https://t.co/IkSrNpmT83 #KAKEnews https://t.co/8risKwbBqr', 'image': <PIL.JpegImagePlugin.JpegImageFile image mode=RGB size=512x346 at 0x7920E418ADD0>, 'label': 'infrastructure_and_utility_damage', 'label_text': 'infrastructure_and_utility_damage', 'label_image': 'infrastructure_and_utility_damage', 'label_text_image': 'Positive', 'image_path': 'data_image/california_wildfires/10_10_2017/917793137925459968_0.jpg'}\n",
            "Dev Example: {'event_name': 'california_wildfires', 'tweet_id': 920329866901381123, 'image_id': '920329866901381123_0', 'tweet_text': 'Family Miraculously Finds Dog They Lost When Escaping California Wildfires https://t.co/4GP0jXda74 https://t.co/T0pPLzfukV', 'image': <PIL.JpegImagePlugin.JpegImageFile image mode=RGB size=780x462 at 0x7920E5B1F850>, 'label': 'not_humanitarian', 'label_text': 'not_humanitarian', 'label_image': 'not_humanitarian', 'label_text_image': 'Positive', 'image_path': 'data_image/california_wildfires/17_10_2017/920329866901381123_0.jpg'}\n"
          ]
        }
      ],
      "source": [
        "# Inspect Columns and Example\n",
        "print(\"Columns:\", dataset_hum[\"train\"].column_names)\n",
        "print(\"Train Example:\", dataset_hum[\"train\"][0])\n",
        "print(\"Dev Example:\", dataset_hum[\"dev\"][0])"
      ]
    },
    {
      "cell_type": "markdown",
      "metadata": {
        "id": "g94WRsQKxTV_"
      },
      "source": [
        "## Tokenizer Initialization & Label Mapping\n",
        "\n",
        "This cell prepares the text processing and label encoding needed for the humanitarian classification task.\n",
        "\n",
        "#### Tokenizer Setup\n",
        "- Loads the **BERT base uncased** tokenizer using `BertTokenizerFast`.\n",
        "- This tokenizer converts tweet text into token IDs that align with the pre-trained VisualBERT model vocabulary.\n",
        "\n",
        "#### Label Encoding\n",
        "- Extracts the set of unique label names from the training set of the `crisismmd2hum` dataset.\n",
        "\n"
      ]
    },
    {
      "cell_type": "code",
      "execution_count": 55,
      "metadata": {
        "colab": {
          "base_uri": "https://localhost:8080/"
        },
        "id": "VrtVrWubxTV_",
        "outputId": "3cd37b44-9796-48ca-90aa-c1771452554e"
      },
      "outputs": [
        {
          "output_type": "stream",
          "name": "stdout",
          "text": [
            "Label mapping: {'affected_individuals': 0, 'infrastructure_and_utility_damage': 1, 'not_humanitarian': 2, 'other_relevant_information': 3, 'rescue_volunteering_or_donation_effort': 4}\n"
          ]
        }
      ],
      "source": [
        "# Tokenizer & Label Mapping\n",
        "from transformers import BertTokenizerFast\n",
        "\n",
        "tokenizer = BertTokenizerFast.from_pretrained(\"bert-base-uncased\")\n",
        "label_list = sorted(set(example[\"label\"] for example in dataset_hum[\"train\"]))\n",
        "label2id_hum = {label: idx for idx, label in enumerate(label_list)}\n",
        "id2label_hum = {idx: label for label, idx in label2id_hum.items()}\n",
        "print(\"Label mapping:\", label2id_hum)"
      ]
    },
    {
      "cell_type": "markdown",
      "metadata": {
        "id": "4oIhuDOmxTV_"
      },
      "source": [
        "##  Humanitarian Dataset Prep\n",
        "\n",
        "To prepare the `crisismmd2hum` dataset for training with PyTorch and BERT, we apply a custom preprocessing function and set the appropriate data format.\n",
        "\n",
        "#### `preprocess_hum` Function\n",
        "This function processes each example in the dataset by:\n",
        "- **Tokenizing the text** (`tweet_text`) using the BERT tokenizer.\n",
        "  - Applies padding and truncation to a fixed length of 128 tokens.\n",
        "- **Converting labels** from strings (e.g., `\"humanitarian\"`) to integers using the `label2id_hum` mapping.\n",
        "- Adds new fields to each example:\n",
        "  - `input_ids`\n",
        "  - `attention_mask`\n",
        "  - `label` (as an integer)\n",
        "\n",
        "#### Apply and Format\n",
        "- The `.map(preprocess_hum)` call applies the function to the entire dataset efficiently.\n",
        "- The `.set_format(...)` method ensures that the returned dataset is in **PyTorch tensor format**, with only the relevant fields:\n",
        "  - `input_ids`, `attention_mask`, and `label`.\n",
        "\n",
        "This ensures the data is ready to be wrapped in a `DataLoader` for model training.\n"
      ]
    },
    {
      "cell_type": "code",
      "execution_count": 56,
      "metadata": {
        "colab": {
          "base_uri": "https://localhost:8080/",
          "height": 252,
          "referenced_widgets": [
            "3a4ceed5ae1944ea93a55ed973b0aaba",
            "c0761b8846cc4584a02eb94b90e61a93",
            "41fca79087d541548233ee324607eebc",
            "550f1533ca6f4f6da443084d0c4d2160",
            "47bb6268fe524e28ada36c4568d6fbe8",
            "2ef8cb385256403fb423cfaf6afd9b38",
            "8f1aec2c9c6a4687b30c2fb4c204b08b",
            "8300c463ab4145a2865b494517c53b21",
            "d21b201d2d644f818ec9b26701204c63",
            "8339a0eb01924c169fcca6ec3df828bb",
            "022eeef8117a4010b6bd3538f2187bea",
            "f05b9a95dd9a41f6bba1d756a2261687",
            "85bcc33e5c7a4ee9b0775ffa3c6e5724",
            "c9a5acac2c894fe4a465b675083f6e8e",
            "07963abd6df04a74ac826be58211ec17",
            "e63e375537be40109f729e19268296d7",
            "33ebb45303d344d9b63c22e5d57b288a",
            "04ed099b145a42ccaaff7c61484f2a7f",
            "f382e68a7ca8405990bb42727233270a",
            "355c95b52b9c4c248b97662cdf375574",
            "89e7d68ea0d34910818f8be124debafa",
            "19b57545033d49449d9e8b151e0e318a",
            "d761a47b993c4f23bf15ff76675c4469",
            "4a2f165e9a144676a7791e0fe104db08",
            "1bc9e34406be466b8bbdbb7f6945cffa",
            "eddca25e4db74345a97b37db9f7d0bf1",
            "8f78a32e2c274898be0394b07ecaddcd",
            "c162b9c410dd4b99870f27c3cf5b0218",
            "a53e1a1b169142feb3de0f2f97f6e3bd",
            "18f8e78eed6043c09875da94df409485",
            "ec2674cf383948ff84a6b0bba566927a",
            "24676b0c5b034ab8b957bc0b4c3aeb10",
            "1191f091567246b2b07b03555d9f712b"
          ]
        },
        "id": "U0zl9WLDxTV_",
        "outputId": "cba74731-1b20-4b43-8f46-827673db23b4"
      },
      "outputs": [
        {
          "output_type": "display_data",
          "data": {
            "text/plain": [
              "Map:   0%|          | 0/6126 [00:00<?, ? examples/s]"
            ],
            "application/vnd.jupyter.widget-view+json": {
              "version_major": 2,
              "version_minor": 0,
              "model_id": "3a4ceed5ae1944ea93a55ed973b0aaba"
            }
          },
          "metadata": {}
        },
        {
          "output_type": "stream",
          "name": "stderr",
          "text": [
            "Traceback (most recent call last):\n",
            "  File \"/usr/lib/python3.11/multiprocessing/queues.py\", line 239, in _feed\n",
            "    reader_close()\n",
            "  File \"/usr/lib/python3.11/multiprocessing/connection.py\", line 178, in close\n",
            "    self._close()\n",
            "  File \"/usr/lib/python3.11/multiprocessing/connection.py\", line 377, in _close\n",
            "    _close(self._handle)\n",
            "OSError: [Errno 9] Bad file descriptor\n"
          ]
        },
        {
          "output_type": "display_data",
          "data": {
            "text/plain": [
              "Map:   0%|          | 0/998 [00:00<?, ? examples/s]"
            ],
            "application/vnd.jupyter.widget-view+json": {
              "version_major": 2,
              "version_minor": 0,
              "model_id": "f05b9a95dd9a41f6bba1d756a2261687"
            }
          },
          "metadata": {}
        },
        {
          "output_type": "display_data",
          "data": {
            "text/plain": [
              "Map:   0%|          | 0/955 [00:00<?, ? examples/s]"
            ],
            "application/vnd.jupyter.widget-view+json": {
              "version_major": 2,
              "version_minor": 0,
              "model_id": "d761a47b993c4f23bf15ff76675c4469"
            }
          },
          "metadata": {}
        }
      ],
      "source": [
        "# Preprocessing Function and Set Format\n",
        "def preprocess_hum(example):\n",
        "    encoding = tokenizer(\n",
        "        example[\"tweet_text\"],\n",
        "        padding=\"max_length\",\n",
        "        truncation=True,\n",
        "        max_length=128,\n",
        "    )\n",
        "    example[\"input_ids\"] = encoding[\"input_ids\"]\n",
        "    example[\"attention_mask\"] = encoding[\"attention_mask\"]\n",
        "    example[\"label\"] = label2id_hum[example[\"label\"]]\n",
        "    return example\n",
        "\n",
        "dataset_hum = dataset_hum.map(preprocess_hum)\n",
        "dataset_hum.set_format(type='torch', columns=['input_ids', 'attention_mask', 'label'])"
      ]
    },
    {
      "cell_type": "markdown",
      "metadata": {
        "id": "XdZr4wHpxTWA"
      },
      "source": [
        "## Custom Dataset: `CrisisHumanitarianDataset`\n",
        "\n",
        "This custom PyTorch `Dataset` class wraps the preprocessed humanitarian dataset and includes logic to handle missing or null images gracefully. Moreover, combines images and texts.\n",
        "\n"
      ]
    },
    {
      "cell_type": "code",
      "execution_count": 57,
      "metadata": {
        "id": "Smng-knjxTWA"
      },
      "outputs": [],
      "source": [
        "# Humanitarian Dataset Class (handles missing images)\n",
        "from torch.utils.data import Dataset\n",
        "from PIL import Image\n",
        "import requests\n",
        "from io import BytesIO\n",
        "\n",
        "class CrisisHumanitarianDataset(Dataset):\n",
        "    def __init__(self, dataset, transform=None):\n",
        "        self.dataset = dataset\n",
        "        self.transform = transform\n",
        "\n",
        "    def __len__(self):\n",
        "        return len(self.dataset)\n",
        "\n",
        "    def __getitem__(self, idx):\n",
        "        item = self.dataset[idx]\n",
        "\n",
        "        if \"image\" not in item or item[\"image\"] is None:\n",
        "            image = Image.new(\"RGB\", (224, 224))  # blank fallback image\n",
        "        else:\n",
        "            image = item[\"image\"].convert(\"RGB\")\n",
        "\n",
        "        if self.transform:\n",
        "            image = self.transform(image)\n",
        "\n",
        "        return {\n",
        "            \"input_ids\": item[\"input_ids\"],\n",
        "            \"attention_mask\": item[\"attention_mask\"],\n",
        "            \"pixel_values\": image,\n",
        "            \"label\": item[\"label\"]\n",
        "        }"
      ]
    },
    {
      "cell_type": "code",
      "execution_count": 58,
      "metadata": {
        "id": "sBSReNmPxTWA"
      },
      "outputs": [],
      "source": [
        "# Define Transforms and Create Dataset Splits\n",
        "from torchvision import transforms\n",
        "\n",
        "image_transform = transforms.Compose([\n",
        "    transforms.Resize((224, 224)),\n",
        "    transforms.ToTensor(),\n",
        "])\n",
        "\n",
        "train_dataset_hum = CrisisHumanitarianDataset(dataset_hum[\"train\"], transform=image_transform)\n",
        "val_dataset_hum = CrisisHumanitarianDataset(dataset_hum[\"dev\"], transform=image_transform)\n",
        "test_dataset_hum = CrisisHumanitarianDataset(dataset_hum[\"test\"], transform=image_transform)"
      ]
    },
    {
      "cell_type": "code",
      "execution_count": 59,
      "metadata": {
        "id": "w03lo1NYxTWA"
      },
      "outputs": [],
      "source": [
        "# Define Collate Function\n",
        "def collate_fn(batch):\n",
        "    input_ids = torch.stack([item[\"input_ids\"] for item in batch])\n",
        "    attention_mask = torch.stack([item[\"attention_mask\"] for item in batch])\n",
        "    pixel_values = torch.stack([item[\"pixel_values\"] for item in batch])\n",
        "    labels = torch.stack([item[\"label\"] for item in batch])\n",
        "    return {\n",
        "        \"input_ids\": input_ids,\n",
        "        \"attention_mask\": attention_mask,\n",
        "        \"pixel_values\": pixel_values,\n",
        "        \"label\": labels\n",
        "    }"
      ]
    },
    {
      "cell_type": "code",
      "execution_count": 60,
      "metadata": {
        "id": "FV6qX5ZpxTWA"
      },
      "outputs": [],
      "source": [
        "# Create DataLoaders\n",
        "from torch.utils.data import DataLoader\n",
        "\n",
        "BATCH_SIZE = 32\n",
        "train_loader_hum = DataLoader(train_dataset_hum, batch_size=BATCH_SIZE, shuffle=True, collate_fn=collate_fn, num_workers=WORKERS)\n",
        "val_loader_hum = DataLoader(val_dataset_hum, batch_size=BATCH_SIZE, collate_fn=collate_fn, num_workers=WORKERS)\n",
        "test_loader_hum = DataLoader(test_dataset_hum, batch_size=BATCH_SIZE, collate_fn=collate_fn, num_workers=WORKERS)"
      ]
    },
    {
      "cell_type": "markdown",
      "metadata": {
        "id": "pJwTfHYmxTWA"
      },
      "source": [
        "## VisualBERT Humanitarian Classifier\n",
        "\n",
        "This class defines a multimodal neural network for classifying whether crisis-related tweets contain **humanitarian content**. It leverages **VisualBERT** to combine textual and visual inputs.\n",
        "\n",
        "#### Architecture\n",
        "- **Backbone**: Uses a pre-trained `VisualBertModel` (`uclanlp/visualbert-vqa-coco-pre`) as the base encoder for joint text and image features.\n",
        "- **Classifier Head**:\n",
        "  - A fully connected layer reduces the pooled output size from 768 to 256.\n",
        "  - Followed by a ReLU activation and dropout to prevent overfitting.\n",
        "  - A final linear layer maps to the number of humanitarian label classes (e.g., `2`).\n",
        "\n",
        "#### Forward Pass\n",
        "- Accepts:\n",
        "  - `input_ids`: token IDs from the BERT tokenizer.\n",
        "  - `attention_mask`: attention mask for text tokens.\n",
        "  - `visual_embeds`: image features extracted from a CNN (e.g., ResNet).\n",
        "- Constructs a **visual attention mask** of ones (same shape as `visual_embeds`) to signal the model to attend to image features.\n",
        "- Feeds the multimodal input into VisualBERT and applies the classifier head to the pooled output.\n",
        "\n",
        "This model enables the identification of humanitarian-related content using combined visual and textual signals — ideal for humanitarian response use cases.\n"
      ]
    },
    {
      "cell_type": "code",
      "execution_count": 69,
      "metadata": {
        "id": "7GHh9uhCxTWA"
      },
      "outputs": [],
      "source": [
        "# Define VisualBERT Humanitarian Classifier\n",
        "import torch\n",
        "import torch.nn as nn\n",
        "from transformers import VisualBertModel\n",
        "\n",
        "class VisualBERTHumanitarianClassifier(nn.Module):\n",
        "    def __init__(self, hidden_size=768, num_labels=len(label2id_hum)):\n",
        "        super(VisualBERTHumanitarianClassifier, self).__init__()\n",
        "        self.visualbert = VisualBertModel.from_pretrained(\"uclanlp/visualbert-vqa-coco-pre\")\n",
        "        self.classifier = nn.Sequential(\n",
        "            nn.Linear(hidden_size, 256),\n",
        "            nn.ReLU(),\n",
        "            nn.Dropout(0.5),\n",
        "            nn.Linear(256, num_labels)\n",
        "        )\n",
        "\n",
        "    def forward(self, input_ids, attention_mask, visual_embeds):\n",
        "        batch_size = input_ids.size(0)\n",
        "        num_visual_tokens = visual_embeds.size(1)\n",
        "\n",
        "        # Create visual attention mask of shape [batch_size, num_visual_tokens]\n",
        "        visual_attention_mask = torch.ones((batch_size, num_visual_tokens), dtype=torch.long).to(input_ids.device)\n",
        "\n",
        "        outputs = self.visualbert(\n",
        "            input_ids=input_ids,\n",
        "            attention_mask=attention_mask,\n",
        "            visual_embeds=visual_embeds,\n",
        "            visual_attention_mask=visual_attention_mask\n",
        "        )\n",
        "        return self.classifier(outputs.pooler_output)"
      ]
    },
    {
      "cell_type": "markdown",
      "metadata": {
        "id": "4L2-qC-pxTWA"
      },
      "source": [
        "## ResNet Feature Extractor and Weighted Loss for Humanitarian Classification\n",
        "\n",
        "This section sets up the **image encoder** and computes **class weights** to handle class imbalance in the humanitarian classification task.\n",
        "\n",
        "#### 🖼️ ResNet-152 Feature Extractor\n",
        "- Loads a pre-trained **ResNet-152** model with `IMAGENET1K_V1` weights.\n",
        "- Replaces the final classification layer (`fc`) with an identity layer (`nn.Identity()`), turning ResNet into a **pure feature extractor**.\n",
        "- The model is set to **evaluation mode** with `resnet.eval()` to disable training-time behavior like dropout and batch norm updates.\n",
        "\n",
        "#### ⚖️ Handling Class Imbalance\n",
        "- Aggregates all labels from `train_loader_hum` to count class occurrences.\n",
        "- Uses `Counter` to tally each class and calculate the **inverse frequency** for each:\n",
        "  - Formula: `weight = total / (num_classes * count_per_class)`\n",
        "- Converts the list of weights into a tensor and moves it to the correct computation device.\n",
        "\n",
        "#### 🎯 Weighted Loss Function\n",
        "- Applies `nn.CrossEntropyLoss(weight=...)` using the computed class weights.\n",
        "- This gives more importance to underrepresented classes (e.g., \"humanitarian\" or \"not_humanitarian\") during training, which helps balance performance across classes.\n",
        "\n",
        "This combination ensures the model receives both strong visual features and fair loss weighting to improve classification of underrepresented humanitarian samples.\n"
      ]
    },
    {
      "cell_type": "code",
      "execution_count": null,
      "metadata": {
        "id": "hOQB2NelxTWB"
      },
      "outputs": [],
      "source": [
        "# Load ResNet Feature Extractor\n",
        "from torchvision.models import resnet50, ResNet50_Weights\n",
        "from torchvision.models import resnet152 as ResNet152\n",
        "resnet_hum = ResNet152(weights=ResNet152_Weights.IMAGENET1K_V1)\n",
        "resnet_hum.fc = nn.Identity()\n",
        "resnet_hum.eval()"
      ]
    },
    {
      "cell_type": "code",
      "execution_count": 71,
      "metadata": {
        "id": "TkiPx3fdxTWB"
      },
      "outputs": [],
      "source": [
        "# Compute class weights from the training dataset\n",
        "import torch\n",
        "import numpy as np\n",
        "from collections import Counter\n",
        "\n",
        "# Assumes train_loader_hum is already defined and yields batches with 'label' tensors\n",
        "all_labels = []\n",
        "\n",
        "for batch in train_loader_hum:\n",
        "    all_labels.extend(batch['label'].tolist())\n",
        "\n",
        "label_counts = Counter(all_labels)\n",
        "num_classes = len(label_counts)\n",
        "total = sum(label_counts.values())\n",
        "\n",
        "# Compute weight for each class: inverse frequency\n",
        "class_weights = [total / (num_classes * label_counts[i]) for i in range(num_classes)]\n",
        "class_weights = torch.tensor(class_weights, dtype=torch.float).to(device)\n",
        "\n",
        "# Use weighted loss\n",
        "loss_fn = nn.CrossEntropyLoss(weight=class_weights)"
      ]
    },
    {
      "cell_type": "markdown",
      "metadata": {
        "id": "znGtpGqDxTWB"
      },
      "source": [
        "## Training: `train_humanitarian_model`\n",
        "\n",
        "This function trains the `VisualBERTHumanitarianClassifier` using multimodal input (text and image features) and tracks performance across epochs.\n",
        "\n",
        "\n",
        "#### Output\n",
        "Prints epoch-wise metrics and returns `history` containing:\n",
        "- `train_loss`, `val_loss`\n",
        "- `train_acc`, `val_acc`\n",
        "\n",
        "This training loop ensures the model learns effectively while monitoring overfitting and guiding learning rate adjustment with the scheduler.\n"
      ]
    },
    {
      "cell_type": "code",
      "execution_count": 72,
      "metadata": {
        "id": "lHK03GoHxTWB"
      },
      "outputs": [],
      "source": [
        "# Training Function\n",
        "def train_humanitarian_model(model, resnet, train_loader, val_loader, optimizer, loss_fn, scheduler, device, epochs=5):\n",
        "    model.to(device)\n",
        "    resnet.to(device)\n",
        "\n",
        "    history = {\n",
        "        'train_loss': [],\n",
        "        'val_loss': [],\n",
        "        'train_acc': [],\n",
        "        'val_acc': []\n",
        "    }\n",
        "\n",
        "    for epoch in range(epochs):\n",
        "        model.train()\n",
        "        running_loss = 0.0\n",
        "        correct = 0\n",
        "        total = 0\n",
        "\n",
        "        for batch in train_loader:\n",
        "            input_ids = batch[\"input_ids\"].to(device)\n",
        "            attention_mask = batch[\"attention_mask\"].to(device)\n",
        "            pixel_values = batch[\"pixel_values\"].to(device)\n",
        "            labels = batch[\"label\"].to(device)\n",
        "\n",
        "            with torch.no_grad():\n",
        "                visual_embeds = resnet(pixel_values)\n",
        "                if visual_embeds.dim() == 4:\n",
        "                    visual_embeds = visual_embeds.squeeze(-1).squeeze(-1)\n",
        "                visual_embeds = visual_embeds.unsqueeze(1)\n",
        "\n",
        "            optimizer.zero_grad()\n",
        "            outputs = model(input_ids, attention_mask, visual_embeds)\n",
        "            loss = loss_fn(outputs, labels)\n",
        "            loss.backward()\n",
        "            optimizer.step()\n",
        "\n",
        "            running_loss += loss.item()\n",
        "            preds = torch.argmax(outputs, dim=1)\n",
        "            correct += (preds == labels).sum().item()\n",
        "            total += labels.size(0)\n",
        "\n",
        "        train_acc = correct / total\n",
        "        running_loss /= len(train_loader)\n",
        "        scheduler.step(running_loss)\n",
        "\n",
        "        # Validation\n",
        "        model.eval()\n",
        "        val_loss = 0.0\n",
        "        val_correct = 0\n",
        "        val_total = 0\n",
        "\n",
        "        with torch.no_grad():\n",
        "            for batch in val_loader:\n",
        "                input_ids = batch[\"input_ids\"].to(device)\n",
        "                attention_mask = batch[\"attention_mask\"].to(device)\n",
        "                pixel_values = batch[\"pixel_values\"].to(device)\n",
        "                labels = batch[\"label\"].to(device)\n",
        "\n",
        "                visual_embeds = resnet(pixel_values)\n",
        "                if visual_embeds.dim() == 4:\n",
        "                    visual_embeds = visual_embeds.squeeze(-1).squeeze(-1)\n",
        "                visual_embeds = visual_embeds.unsqueeze(1)\n",
        "\n",
        "                outputs = model(input_ids, attention_mask, visual_embeds)\n",
        "                loss = loss_fn(outputs, labels)\n",
        "\n",
        "                val_loss += loss.item()\n",
        "                preds = torch.argmax(outputs, dim=1)\n",
        "                val_correct += (preds == labels).sum().item()\n",
        "                val_total += labels.size(0)\n",
        "\n",
        "        val_acc = val_correct / val_total\n",
        "        val_loss /= len(val_loader)\n",
        "\n",
        "        # Save history\n",
        "        history['train_loss'].append(running_loss)\n",
        "        history['val_loss'].append(val_loss)\n",
        "        history['train_acc'].append(train_acc)\n",
        "        history['val_acc'].append(val_acc)\n",
        "\n",
        "        print(f\"Epoch {epoch+1}, Train Loss: {running_loss:.4f}, Train Acc: {train_acc:.4f}, Val Loss: {val_loss:.4f}, Val Acc: {val_acc:.4f}\")\n",
        "\n",
        "    return history\n"
      ]
    },
    {
      "cell_type": "markdown",
      "metadata": {
        "id": "1IxMweoexTWB"
      },
      "source": [
        "## Evaluation: `evaluate_humanitarian_model`\n",
        "\n",
        "This function evaluates the trained humanitarian classifier on a given dataset split (e.g., validation or test) and prints a detailed classification report.\n",
        "\n",
        "#### 📈 Performance Reporting\n",
        "- Uses `sklearn.metrics.classification_report` to print:\n",
        "  - Precision, recall, and F1-score for each class (`humanitarian`, `not_humanitarian`).\n",
        "\n",
        "\n"
      ]
    },
    {
      "cell_type": "code",
      "execution_count": 73,
      "metadata": {
        "id": "Uxk1O5wGxTWB"
      },
      "outputs": [],
      "source": [
        "# Evaluation Function\n",
        "def evaluate_humanitarian_model(model, resnet, dataloader, device):\n",
        "    model.eval()\n",
        "    resnet.eval()\n",
        "    all_preds = []\n",
        "    all_labels = []\n",
        "\n",
        "    with torch.no_grad():\n",
        "        for batch in dataloader:\n",
        "            input_ids = batch[\"input_ids\"].to(device)\n",
        "            attention_mask = batch[\"attention_mask\"].to(device)\n",
        "            pixel_values = batch[\"pixel_values\"].to(device)\n",
        "            labels = batch[\"label\"].to(device)\n",
        "\n",
        "            visual_embeds = resnet(pixel_values).unsqueeze(1)  # ← FIX HERE\n",
        "            outputs = model(input_ids, attention_mask, visual_embeds)\n",
        "            preds = torch.argmax(outputs, dim=1)\n",
        "\n",
        "            all_preds.extend(preds.cpu().tolist())\n",
        "            all_labels.extend(labels.cpu().tolist())\n",
        "\n",
        "    from sklearn.metrics import classification_report\n",
        "    print(classification_report(all_labels, all_preds, target_names=list(label2id_hum.keys())))"
      ]
    },
    {
      "cell_type": "markdown",
      "metadata": {
        "id": "Xep84a1yxTWB"
      },
      "source": [
        "## Training and Evaluation: Humanitarian Classification Model"
      ]
    },
    {
      "cell_type": "code",
      "execution_count": 74,
      "metadata": {
        "colab": {
          "base_uri": "https://localhost:8080/"
        },
        "id": "-wyBwztoxTWB",
        "outputId": "84aa1e89-ac69-4db1-a321-92a6b6c53125"
      },
      "outputs": [
        {
          "output_type": "stream",
          "name": "stdout",
          "text": [
            "Epoch 1, Train Loss: 1.5071, Train Acc: 0.3346, Val Loss: 1.2049, Val Acc: 0.6844\n",
            "Epoch 2, Train Loss: 0.9796, Train Acc: 0.7186, Val Loss: 0.8112, Val Acc: 0.7194\n",
            "Epoch 3, Train Loss: 0.5925, Train Acc: 0.8168, Val Loss: 0.6770, Val Acc: 0.7715\n",
            "Epoch 4, Train Loss: 0.4498, Train Acc: 0.8528, Val Loss: 0.7746, Val Acc: 0.7745\n",
            "Epoch 5, Train Loss: 0.3646, Train Acc: 0.8733, Val Loss: 0.7681, Val Acc: 0.7816\n",
            "Epoch 6, Train Loss: 0.2673, Train Acc: 0.9004, Val Loss: 0.8000, Val Acc: 0.7936\n",
            "Epoch 7, Train Loss: 0.2182, Train Acc: 0.9262, Val Loss: 0.8098, Val Acc: 0.7876\n",
            "Epoch 8, Train Loss: 0.1612, Train Acc: 0.9434, Val Loss: 0.9137, Val Acc: 0.7685\n",
            "Epoch 9, Train Loss: 0.1237, Train Acc: 0.9546, Val Loss: 0.8979, Val Acc: 0.7836\n",
            "Epoch 10, Train Loss: 0.1007, Train Acc: 0.9620, Val Loss: 0.9748, Val Acc: 0.7946\n",
            "Epoch 11, Train Loss: 0.0871, Train Acc: 0.9690, Val Loss: 0.9899, Val Acc: 0.7856\n",
            "Epoch 12, Train Loss: 0.0863, Train Acc: 0.9691, Val Loss: 1.0086, Val Acc: 0.7906\n",
            "Epoch 13, Train Loss: 0.0870, Train Acc: 0.9721, Val Loss: 1.0447, Val Acc: 0.7936\n",
            "Epoch 14, Train Loss: 0.0595, Train Acc: 0.9789, Val Loss: 1.1678, Val Acc: 0.8086\n",
            "Epoch 15, Train Loss: 0.0521, Train Acc: 0.9819, Val Loss: 1.1009, Val Acc: 0.7966\n",
            "Epoch 16, Train Loss: 0.0389, Train Acc: 0.9860, Val Loss: 1.1241, Val Acc: 0.7876\n",
            "Epoch 17, Train Loss: 0.0361, Train Acc: 0.9868, Val Loss: 1.2678, Val Acc: 0.8036\n",
            "Epoch 18, Train Loss: 0.0328, Train Acc: 0.9891, Val Loss: 1.1965, Val Acc: 0.7896\n",
            "Epoch 19, Train Loss: 0.0336, Train Acc: 0.9896, Val Loss: 1.2266, Val Acc: 0.8006\n",
            "Epoch 20, Train Loss: 0.0256, Train Acc: 0.9909, Val Loss: 1.2715, Val Acc: 0.7966\n",
            "                                        precision    recall  f1-score   support\n",
            "\n",
            "                  affected_individuals       0.50      0.56      0.53         9\n",
            "     infrastructure_and_utility_damage       0.71      0.73      0.72        81\n",
            "                      not_humanitarian       0.86      0.82      0.84       504\n",
            "            other_relevant_information       0.76      0.72      0.74       235\n",
            "rescue_volunteering_or_donation_effort       0.71      0.87      0.79       126\n",
            "\n",
            "                              accuracy                           0.79       955\n",
            "                             macro avg       0.71      0.74      0.72       955\n",
            "                          weighted avg       0.80      0.79      0.80       955\n",
            "\n"
          ]
        }
      ],
      "source": [
        "# Train and Evaluate\n",
        "\n",
        "device = torch.device(\"cuda\" if torch.cuda.is_available() else \"cpu\")\n",
        "\n",
        "model_hum = VisualBERTHumanitarianClassifier()\n",
        "optimizer = torch.optim.AdamW(model_hum.parameters(), lr=LEARNING_RATE, weight_decay=WEIGHT_DECAY)\n",
        "\n",
        "# loss_fn is defined earlier using weighted class strategy\n",
        "scheduler = torch.optim.lr_scheduler.ReduceLROnPlateau(optimizer, mode=\"min\", patience=PATIENCE, factor=FACTOR)\n",
        "\n",
        "history_hmn_nhmn = train_humanitarian_model(\n",
        "    model=model_hum,\n",
        "    resnet=resnet_hum,\n",
        "    train_loader=train_loader_hum,\n",
        "    val_loader=val_loader_hum,\n",
        "    optimizer=optimizer,\n",
        "    loss_fn=loss_fn,\n",
        "    scheduler=scheduler,\n",
        "    device=device,\n",
        "    epochs=20\n",
        ")\n",
        "\n",
        "evaluate_humanitarian_model(model_hum, resnet, test_loader_hum, device)"
      ]
    },
    {
      "cell_type": "code",
      "source": [
        "import matplotlib.pyplot as plt\n",
        "\n",
        "# Extract history data\n",
        "train_loss = history_hmn_nhmn['train_loss']\n",
        "val_loss = history_hmn_nhmn['val_loss']\n",
        "train_acc = history_hmn_nhmn['train_acc']\n",
        "val_acc = history_hmn_nhmn['val_acc']\n",
        "epochs = range(1, len(train_loss) + 1)\n",
        "\n",
        "# Create subplots\n",
        "plt.figure(figsize=(12, 5))\n",
        "\n",
        "# Plot Loss\n",
        "plt.subplot(1, 2, 1)\n",
        "plt.plot(epochs, train_loss, 'bo-', label='Training Loss')\n",
        "plt.plot(epochs, val_loss, 'ro-', label='Validation Loss')\n",
        "plt.title('Loss over Epochs')\n",
        "plt.xlabel('Epoch')\n",
        "plt.ylabel('Loss')\n",
        "plt.legend()\n",
        "plt.grid(True)\n",
        "\n",
        "# Plot Accuracy\n",
        "plt.subplot(1, 2, 2)\n",
        "plt.plot(epochs, train_acc, 'bo-', label='Training Accuracy')\n",
        "plt.plot(epochs, val_acc, 'ro-', label='Validation Accuracy')\n",
        "plt.title('Accuracy over Epochs')\n",
        "plt.xlabel('Epoch')\n",
        "plt.ylabel('Accuracy')\n",
        "plt.legend()\n",
        "plt.grid(True)\n",
        "\n",
        "# Show plot\n",
        "plt.tight_layout()\n",
        "plt.show()\n"
      ],
      "metadata": {
        "colab": {
          "base_uri": "https://localhost:8080/",
          "height": 506
        },
        "id": "uuldJk1l0WBJ",
        "outputId": "c32f8266-84fa-44aa-d02c-0b101836cd16"
      },
      "execution_count": 75,
      "outputs": [
        {
          "output_type": "display_data",
          "data": {
            "text/plain": [
              "<Figure size 1200x500 with 2 Axes>"
            ],
            "image/png": "[encoded data removed]"
          },
          "metadata": {}
        }
      ]
    },
    {
      "cell_type": "markdown",
      "metadata": {
        "id": "ZYoz9We1xTWB"
      },
      "source": [
        "## Results and Summary – Humanitarian Classification\n",
        "\n",
        "### Objective\n",
        "The goal of this second stage was to build a multimodal classifier using **VisualBERT** and **ResNet-152** to determine whether crisis-related social media posts contain **humanitarian content** — i.e., content involving people affected by the disaster.\n",
        "\n",
        "The task uses the `crisismmd2hum` dataset and follows up on the informativeness filter. Only samples deemed informative in Stage 1 are passed to this classifier.\n",
        "\n",
        "---\n",
        "\n",
        "### 📈 Training Summary\n",
        "\n",
        "The model was trained for 20 epochs using a class-weighted loss to address class imbalance, with the ResNet-152 feature extractor frozen in evaluation mode. Training accuracy improved steadily from 33% in the first epoch to over 99% by the final epoch, showing rapid convergence.\n",
        "\n",
        "Validation accuracy increased quickly during the first 6–7 epochs, reaching approximately **79%** and plateauing thereafter. Despite continuing gains in training accuracy, validation accuracy showed slight fluctuations and signs of overfitting starting from epoch 8, with validation loss increasing after epoch 6.\n",
        "\n",
        "| Epoch | Train Loss | Train Accuracy | Validation Loss | Validation Accuracy |\n",
        "|-------|------------|----------------|-----------------|---------------------|\n",
        "| 1     | 1.5071     | 33.46%         | 1.2049          | 68.44%              |\n",
        "| 2     | 0.9796     | 71.86%         | 0.8112          | 71.94%              |\n",
        "| 3     | 0.5925     | 81.68%         | 0.6770          | 77.15%              |\n",
        "| 4     | 0.4498     | 85.28%         | 0.7746          | 77.45%              |\n",
        "| 5     | 0.3646     | 87.33%         | 0.7681          | 78.16%              |\n",
        "| 6     | 0.2673     | 90.04%         | 0.8000          | 79.36%              |\n",
        "| 7     | 0.2182     | 92.62%         | 0.8098          | 78.76%              |\n",
        "| 8     | 0.1612     | 94.34%         | 0.9137          | 76.85%              |\n",
        "| 9     | 0.1237     | 95.46%         | 0.8979          | 78.36%              |\n",
        "| 10    | 0.1007     | 96.20%         | 0.9748          | 79.46%              |\n",
        "| …     | …          | …              | …               | …                   |\n",
        "| 20    | 0.0256     | 99.09%         | 1.2715          | 79.66%              |\n",
        "\n",
        "---\n",
        "\n",
        "### 📊 Evaluation Metrics on Test Set\n",
        "\n",
        "The model achieved an overall accuracy of **79%** on 955 test samples, with the following class-wise precision, recall, and F1-scores:\n",
        "\n",
        "| Class                                  | Precision | Recall | F1-Score | Support |\n",
        "|----------------------------------------|-----------|--------|----------|---------|\n",
        "| Affected Individuals                   | 0.50      | 0.56   | 0.53     | 9       |\n",
        "| Infrastructure and Utility Damage     | 0.71      | 0.73   | 0.72     | 81      |\n",
        "| Not Humanitarian                      | 0.86      | 0.82   | 0.84     | 504     |\n",
        "| Other Relevant Information             | 0.76      | 0.72   | 0.74     | 235     |\n",
        "| Rescue, Volunteering, or Donation Effort | 0.71   | 0.87   | 0.79     | 126     |\n",
        "\n",
        "- **Macro average:** Precision 0.71, Recall 0.74, F1-score 0.72\n",
        "- **Weighted average:** Precision 0.80, Recall 0.79, F1-score 0.80\n",
        "\n",
        "---\n",
        "\n",
        "### 🔎 Insights\n",
        "\n",
        "- The model effectively distinguishes **humanitarian** from **non-humanitarian** content within crisis-related informative posts, with the highest performance on the majority classes like *Not Humanitarian* and *Other Relevant Information*.\n",
        "- Performance on the *Affected Individuals* class is relatively low, likely due to the small number of samples and the inherent difficulty of the class.\n",
        "- Signs of overfitting in later epochs suggest potential for further tuning, such as early stopping or stronger regularization.\n",
        "- The use of class-weighted loss helped improve recall on minority classes like *Rescue and Donation Efforts*.\n",
        "\n",
        "---\n",
        "\n",
        "\n",
        "\n",
        "\n",
        "\n",
        "\n"
      ]
    }
  ],
  "metadata": {
    "accelerator": "GPU",
    "colab": {
      "gpuType": "A100",
      "provenance": [],
      "toc_visible": true,
      "machine_shape": "hm"
    },
    "kernelspec": {
      "display_name": "Python 3",
      "name": "python3"
    },
    "language_info": {
      "codemirror_mode": {
        "name": "ipython",
        "version": 3
      },
      "file_extension": ".py",
      "mimetype": "text/x-python",
      "name": "python",
      "nbconvert_exporter": "python",
      "pygments_lexer": "ipython3",
      "version": "3.12.9"
    },
    "widgets": {
      "application/vnd.jupyter.widget-state+json": {
        "3a4ceed5ae1944ea93a55ed973b0aaba": {
          "model_module": "@jupyter-widgets/controls",
          "model_name": "HBoxModel",
          "model_module_version": "1.5.0",
          "state": {
            "_dom_classes": [],
            "_model_module": "@jupyter-widgets/controls",
            "_model_module_version": "1.5.0",
            "_model_name": "HBoxModel",
            "_view_count": null,
            "_view_module": "@jupyter-widgets/controls",
            "_view_module_version": "1.5.0",
            "_view_name": "HBoxView",
            "box_style": "",
            "children": [
              "IPY_MODEL_c0761b8846cc4584a02eb94b90e61a93",
              "IPY_MODEL_41fca79087d541548233ee324607eebc",
              "IPY_MODEL_550f1533ca6f4f6da443084d0c4d2160"
            ],
            "layout": "IPY_MODEL_47bb6268fe524e28ada36c4568d6fbe8"
          }
        },
        "c0761b8846cc4584a02eb94b90e61a93": {
          "model_module": "@jupyter-widgets/controls",
          "model_name": "HTMLModel",
          "model_module_version": "1.5.0",
          "state": {
            "_dom_classes": [],
            "_model_module": "@jupyter-widgets/controls",
            "_model_module_version": "1.5.0",
            "_model_name": "HTMLModel",
            "_view_count": null,
            "_view_module": "@jupyter-widgets/controls",
            "_view_module_version": "1.5.0",
            "_view_name": "HTMLView",
            "description": "",
            "description_tooltip": null,
            "layout": "IPY_MODEL_2ef8cb385256403fb423cfaf6afd9b38",
            "placeholder": "​",
            "style": "IPY_MODEL_8f1aec2c9c6a4687b30c2fb4c204b08b",
            "value": "Map: 100%"
          }
        },
        "41fca79087d541548233ee324607eebc": {
          "model_module": "@jupyter-widgets/controls",
          "model_name": "FloatProgressModel",
          "model_module_version": "1.5.0",
          "state": {
            "_dom_classes": [],
            "_model_module": "@jupyter-widgets/controls",
            "_model_module_version": "1.5.0",
            "_model_name": "FloatProgressModel",
            "_view_count": null,
            "_view_module": "@jupyter-widgets/controls",
            "_view_module_version": "1.5.0",
            "_view_name": "ProgressView",
            "bar_style": "success",
            "description": "",
            "description_tooltip": null,
            "layout": "IPY_MODEL_8300c463ab4145a2865b494517c53b21",
            "max": 6126,
            "min": 0,
            "orientation": "horizontal",
            "style": "IPY_MODEL_d21b201d2d644f818ec9b26701204c63",
            "value": 6126
          }
        },
        "550f1533ca6f4f6da443084d0c4d2160": {
          "model_module": "@jupyter-widgets/controls",
          "model_name": "HTMLModel",
          "model_module_version": "1.5.0",
          "state": {
            "_dom_classes": [],
            "_model_module": "@jupyter-widgets/controls",
            "_model_module_version": "1.5.0",
            "_model_name": "HTMLModel",
            "_view_count": null,
            "_view_module": "@jupyter-widgets/controls",
            "_view_module_version": "1.5.0",
            "_view_name": "HTMLView",
            "description": "",
            "description_tooltip": null,
            "layout": "IPY_MODEL_8339a0eb01924c169fcca6ec3df828bb",
            "placeholder": "​",
            "style": "IPY_MODEL_022eeef8117a4010b6bd3538f2187bea",
            "value": " 6126/6126 [00:04&lt;00:00, 1396.66 examples/s]"
          }
        },
        "47bb6268fe524e28ada36c4568d6fbe8": {
          "model_module": "@jupyter-widgets/base",
          "model_name": "LayoutModel",
          "model_module_version": "1.2.0",
          "state": {
            "_model_module": "@jupyter-widgets/base",
            "_model_module_version": "1.2.0",
            "_model_name": "LayoutModel",
            "_view_count": null,
            "_view_module": "@jupyter-widgets/base",
            "_view_module_version": "1.2.0",
            "_view_name": "LayoutView",
            "align_content": null,
            "align_items": null,
            "align_self": null,
            "border": null,
            "bottom": null,
            "display": null,
            "flex": null,
            "flex_flow": null,
            "grid_area": null,
            "grid_auto_columns": null,
            "grid_auto_flow": null,
            "grid_auto_rows": null,
            "grid_column": null,
            "grid_gap": null,
            "grid_row": null,
            "grid_template_areas": null,
            "grid_template_columns": null,
            "grid_template_rows": null,
            "height": null,
            "justify_content": null,
            "justify_items": null,
            "left": null,
            "margin": null,
            "max_height": null,
            "max_width": null,
            "min_height": null,
            "min_width": null,
            "object_fit": null,
            "object_position": null,
            "order": null,
            "overflow": null,
            "overflow_x": null,
            "overflow_y": null,
            "padding": null,
            "right": null,
            "top": null,
            "visibility": null,
            "width": null
          }
        },
        "2ef8cb385256403fb423cfaf6afd9b38": {
          "model_module": "@jupyter-widgets/base",
          "model_name": "LayoutModel",
          "model_module_version": "1.2.0",
          "state": {
            "_model_module": "@jupyter-widgets/base",
            "_model_module_version": "1.2.0",
            "_model_name": "LayoutModel",
            "_view_count": null,
            "_view_module": "@jupyter-widgets/base",
            "_view_module_version": "1.2.0",
            "_view_name": "LayoutView",
            "align_content": null,
            "align_items": null,
            "align_self": null,
            "border": null,
            "bottom": null,
            "display": null,
            "flex": null,
            "flex_flow": null,
            "grid_area": null,
            "grid_auto_columns": null,
            "grid_auto_flow": null,
            "grid_auto_rows": null,
            "grid_column": null,
            "grid_gap": null,
            "grid_row": null,
            "grid_template_areas": null,
            "grid_template_columns": null,
            "grid_template_rows": null,
            "height": null,
            "justify_content": null,
            "justify_items": null,
            "left": null,
            "margin": null,
            "max_height": null,
            "max_width": null,
            "min_height": null,
            "min_width": null,
            "object_fit": null,
            "object_position": null,
            "order": null,
            "overflow": null,
            "overflow_x": null,
            "overflow_y": null,
            "padding": null,
            "right": null,
            "top": null,
            "visibility": null,
            "width": null
          }
        },
        "8f1aec2c9c6a4687b30c2fb4c204b08b": {
          "model_module": "@jupyter-widgets/controls",
          "model_name": "DescriptionStyleModel",
          "model_module_version": "1.5.0",
          "state": {
            "_model_module": "@jupyter-widgets/controls",
            "_model_module_version": "1.5.0",
            "_model_name": "DescriptionStyleModel",
            "_view_count": null,
            "_view_module": "@jupyter-widgets/base",
            "_view_module_version": "1.2.0",
            "_view_name": "StyleView",
            "description_width": ""
          }
        },
        "8300c463ab4145a2865b494517c53b21": {
          "model_module": "@jupyter-widgets/base",
          "model_name": "LayoutModel",
          "model_module_version": "1.2.0",
          "state": {
            "_model_module": "@jupyter-widgets/base",
            "_model_module_version": "1.2.0",
            "_model_name": "LayoutModel",
            "_view_count": null,
            "_view_module": "@jupyter-widgets/base",
            "_view_module_version": "1.2.0",
            "_view_name": "LayoutView",
            "align_content": null,
            "align_items": null,
            "align_self": null,
            "border": null,
            "bottom": null,
            "display": null,
            "flex": null,
            "flex_flow": null,
            "grid_area": null,
            "grid_auto_columns": null,
            "grid_auto_flow": null,
            "grid_auto_rows": null,
            "grid_column": null,
            "grid_gap": null,
            "grid_row": null,
            "grid_template_areas": null,
            "grid_template_columns": null,
            "grid_template_rows": null,
            "height": null,
            "justify_content": null,
            "justify_items": null,
            "left": null,
            "margin": null,
            "max_height": null,
            "max_width": null,
            "min_height": null,
            "min_width": null,
            "object_fit": null,
            "object_position": null,
            "order": null,
            "overflow": null,
            "overflow_x": null,
            "overflow_y": null,
            "padding": null,
            "right": null,
            "top": null,
            "visibility": null,
            "width": null
          }
        },
        "d21b201d2d644f818ec9b26701204c63": {
          "model_module": "@jupyter-widgets/controls",
          "model_name": "ProgressStyleModel",
          "model_module_version": "1.5.0",
          "state": {
            "_model_module": "@jupyter-widgets/controls",
            "_model_module_version": "1.5.0",
            "_model_name": "ProgressStyleModel",
            "_view_count": null,
            "_view_module": "@jupyter-widgets/base",
            "_view_module_version": "1.2.0",
            "_view_name": "StyleView",
            "bar_color": null,
            "description_width": ""
          }
        },
        "8339a0eb01924c169fcca6ec3df828bb": {
          "model_module": "@jupyter-widgets/base",
          "model_name": "LayoutModel",
          "model_module_version": "1.2.0",
          "state": {
            "_model_module": "@jupyter-widgets/base",
            "_model_module_version": "1.2.0",
            "_model_name": "LayoutModel",
            "_view_count": null,
            "_view_module": "@jupyter-widgets/base",
            "_view_module_version": "1.2.0",
            "_view_name": "LayoutView",
            "align_content": null,
            "align_items": null,
            "align_self": null,
            "border": null,
            "bottom": null,
            "display": null,
            "flex": null,
            "flex_flow": null,
            "grid_area": null,
            "grid_auto_columns": null,
            "grid_auto_flow": null,
            "grid_auto_rows": null,
            "grid_column": null,
            "grid_gap": null,
            "grid_row": null,
            "grid_template_areas": null,
            "grid_template_columns": null,
            "grid_template_rows": null,
            "height": null,
            "justify_content": null,
            "justify_items": null,
            "left": null,
            "margin": null,
            "max_height": null,
            "max_width": null,
            "min_height": null,
            "min_width": null,
            "object_fit": null,
            "object_position": null,
            "order": null,
            "overflow": null,
            "overflow_x": null,
            "overflow_y": null,
            "padding": null,
            "right": null,
            "top": null,
            "visibility": null,
            "width": null
          }
        },
        "022eeef8117a4010b6bd3538f2187bea": {
          "model_module": "@jupyter-widgets/controls",
          "model_name": "DescriptionStyleModel",
          "model_module_version": "1.5.0",
          "state": {
            "_model_module": "@jupyter-widgets/controls",
            "_model_module_version": "1.5.0",
            "_model_name": "DescriptionStyleModel",
            "_view_count": null,
            "_view_module": "@jupyter-widgets/base",
            "_view_module_version": "1.2.0",
            "_view_name": "StyleView",
            "description_width": ""
          }
        },
        "f05b9a95dd9a41f6bba1d756a2261687": {
          "model_module": "@jupyter-widgets/controls",
          "model_name": "HBoxModel",
          "model_module_version": "1.5.0",
          "state": {
            "_dom_classes": [],
            "_model_module": "@jupyter-widgets/controls",
            "_model_module_version": "1.5.0",
            "_model_name": "HBoxModel",
            "_view_count": null,
            "_view_module": "@jupyter-widgets/controls",
            "_view_module_version": "1.5.0",
            "_view_name": "HBoxView",
            "box_style": "",
            "children": [
              "IPY_MODEL_85bcc33e5c7a4ee9b0775ffa3c6e5724",
              "IPY_MODEL_c9a5acac2c894fe4a465b675083f6e8e",
              "IPY_MODEL_07963abd6df04a74ac826be58211ec17"
            ],
            "layout": "IPY_MODEL_e63e375537be40109f729e19268296d7"
          }
        },
        "85bcc33e5c7a4ee9b0775ffa3c6e5724": {
          "model_module": "@jupyter-widgets/controls",
          "model_name": "HTMLModel",
          "model_module_version": "1.5.0",
          "state": {
            "_dom_classes": [],
            "_model_module": "@jupyter-widgets/controls",
            "_model_module_version": "1.5.0",
            "_model_name": "HTMLModel",
            "_view_count": null,
            "_view_module": "@jupyter-widgets/controls",
            "_view_module_version": "1.5.0",
            "_view_name": "HTMLView",
            "description": "",
            "description_tooltip": null,
            "layout": "IPY_MODEL_33ebb45303d344d9b63c22e5d57b288a",
            "placeholder": "​",
            "style": "IPY_MODEL_04ed099b145a42ccaaff7c61484f2a7f",
            "value": "Map: 100%"
          }
        },
        "c9a5acac2c894fe4a465b675083f6e8e": {
          "model_module": "@jupyter-widgets/controls",
          "model_name": "FloatProgressModel",
          "model_module_version": "1.5.0",
          "state": {
            "_dom_classes": [],
            "_model_module": "@jupyter-widgets/controls",
            "_model_module_version": "1.5.0",
            "_model_name": "FloatProgressModel",
            "_view_count": null,
            "_view_module": "@jupyter-widgets/controls",
            "_view_module_version": "1.5.0",
            "_view_name": "ProgressView",
            "bar_style": "success",
            "description": "",
            "description_tooltip": null,
            "layout": "IPY_MODEL_f382e68a7ca8405990bb42727233270a",
            "max": 998,
            "min": 0,
            "orientation": "horizontal",
            "style": "IPY_MODEL_355c95b52b9c4c248b97662cdf375574",
            "value": 998
          }
        },
        "07963abd6df04a74ac826be58211ec17": {
          "model_module": "@jupyter-widgets/controls",
          "model_name": "HTMLModel",
          "model_module_version": "1.5.0",
          "state": {
            "_dom_classes": [],
            "_model_module": "@jupyter-widgets/controls",
            "_model_module_version": "1.5.0",
            "_model_name": "HTMLModel",
            "_view_count": null,
            "_view_module": "@jupyter-widgets/controls",
            "_view_module_version": "1.5.0",
            "_view_name": "HTMLView",
            "description": "",
            "description_tooltip": null,
            "layout": "IPY_MODEL_89e7d68ea0d34910818f8be124debafa",
            "placeholder": "​",
            "style": "IPY_MODEL_19b57545033d49449d9e8b151e0e318a",
            "value": " 998/998 [00:00&lt;00:00, 2515.27 examples/s]"
          }
        },
        "e63e375537be40109f729e19268296d7": {
          "model_module": "@jupyter-widgets/base",
          "model_name": "LayoutModel",
          "model_module_version": "1.2.0",
          "state": {
            "_model_module": "@jupyter-widgets/base",
            "_model_module_version": "1.2.0",
            "_model_name": "LayoutModel",
            "_view_count": null,
            "_view_module": "@jupyter-widgets/base",
            "_view_module_version": "1.2.0",
            "_view_name": "LayoutView",
            "align_content": null,
            "align_items": null,
            "align_self": null,
            "border": null,
            "bottom": null,
            "display": null,
            "flex": null,
            "flex_flow": null,
            "grid_area": null,
            "grid_auto_columns": null,
            "grid_auto_flow": null,
            "grid_auto_rows": null,
            "grid_column": null,
            "grid_gap": null,
            "grid_row": null,
            "grid_template_areas": null,
            "grid_template_columns": null,
            "grid_template_rows": null,
            "height": null,
            "justify_content": null,
            "justify_items": null,
            "left": null,
            "margin": null,
            "max_height": null,
            "max_width": null,
            "min_height": null,
            "min_width": null,
            "object_fit": null,
            "object_position": null,
            "order": null,
            "overflow": null,
            "overflow_x": null,
            "overflow_y": null,
            "padding": null,
            "right": null,
            "top": null,
            "visibility": null,
            "width": null
          }
        },
        "33ebb45303d344d9b63c22e5d57b288a": {
          "model_module": "@jupyter-widgets/base",
          "model_name": "LayoutModel",
          "model_module_version": "1.2.0",
          "state": {
            "_model_module": "@jupyter-widgets/base",
            "_model_module_version": "1.2.0",
            "_model_name": "LayoutModel",
            "_view_count": null,
            "_view_module": "@jupyter-widgets/base",
            "_view_module_version": "1.2.0",
            "_view_name": "LayoutView",
            "align_content": null,
            "align_items": null,
            "align_self": null,
            "border": null,
            "bottom": null,
            "display": null,
            "flex": null,
            "flex_flow": null,
            "grid_area": null,
            "grid_auto_columns": null,
            "grid_auto_flow": null,
            "grid_auto_rows": null,
            "grid_column": null,
            "grid_gap": null,
            "grid_row": null,
            "grid_template_areas": null,
            "grid_template_columns": null,
            "grid_template_rows": null,
            "height": null,
            "justify_content": null,
            "justify_items": null,
            "left": null,
            "margin": null,
            "max_height": null,
            "max_width": null,
            "min_height": null,
            "min_width": null,
            "object_fit": null,
            "object_position": null,
            "order": null,
            "overflow": null,
            "overflow_x": null,
            "overflow_y": null,
            "padding": null,
            "right": null,
            "top": null,
            "visibility": null,
            "width": null
          }
        },
        "04ed099b145a42ccaaff7c61484f2a7f": {
          "model_module": "@jupyter-widgets/controls",
          "model_name": "DescriptionStyleModel",
          "model_module_version": "1.5.0",
          "state": {
            "_model_module": "@jupyter-widgets/controls",
            "_model_module_version": "1.5.0",
            "_model_name": "DescriptionStyleModel",
            "_view_count": null,
            "_view_module": "@jupyter-widgets/base",
            "_view_module_version": "1.2.0",
            "_view_name": "StyleView",
            "description_width": ""
          }
        },
        "f382e68a7ca8405990bb42727233270a": {
          "model_module": "@jupyter-widgets/base",
          "model_name": "LayoutModel",
          "model_module_version": "1.2.0",
          "state": {
            "_model_module": "@jupyter-widgets/base",
            "_model_module_version": "1.2.0",
            "_model_name": "LayoutModel",
            "_view_count": null,
            "_view_module": "@jupyter-widgets/base",
            "_view_module_version": "1.2.0",
            "_view_name": "LayoutView",
            "align_content": null,
            "align_items": null,
            "align_self": null,
            "border": null,
            "bottom": null,
            "display": null,
            "flex": null,
            "flex_flow": null,
            "grid_area": null,
            "grid_auto_columns": null,
            "grid_auto_flow": null,
            "grid_auto_rows": null,
            "grid_column": null,
            "grid_gap": null,
            "grid_row": null,
            "grid_template_areas": null,
            "grid_template_columns": null,
            "grid_template_rows": null,
            "height": null,
            "justify_content": null,
            "justify_items": null,
            "left": null,
            "margin": null,
            "max_height": null,
            "max_width": null,
            "min_height": null,
            "min_width": null,
            "object_fit": null,
            "object_position": null,
            "order": null,
            "overflow": null,
            "overflow_x": null,
            "overflow_y": null,
            "padding": null,
            "right": null,
            "top": null,
            "visibility": null,
            "width": null
          }
        },
        "355c95b52b9c4c248b97662cdf375574": {
          "model_module": "@jupyter-widgets/controls",
          "model_name": "ProgressStyleModel",
          "model_module_version": "1.5.0",
          "state": {
            "_model_module": "@jupyter-widgets/controls",
            "_model_module_version": "1.5.0",
            "_model_name": "ProgressStyleModel",
            "_view_count": null,
            "_view_module": "@jupyter-widgets/base",
            "_view_module_version": "1.2.0",
            "_view_name": "StyleView",
            "bar_color": null,
            "description_width": ""
          }
        },
        "89e7d68ea0d34910818f8be124debafa": {
          "model_module": "@jupyter-widgets/base",
          "model_name": "LayoutModel",
          "model_module_version": "1.2.0",
          "state": {
            "_model_module": "@jupyter-widgets/base",
            "_model_module_version": "1.2.0",
            "_model_name": "LayoutModel",
            "_view_count": null,
            "_view_module": "@jupyter-widgets/base",
            "_view_module_version": "1.2.0",
            "_view_name": "LayoutView",
            "align_content": null,
            "align_items": null,
            "align_self": null,
            "border": null,
            "bottom": null,
            "display": null,
            "flex": null,
            "flex_flow": null,
            "grid_area": null,
            "grid_auto_columns": null,
            "grid_auto_flow": null,
            "grid_auto_rows": null,
            "grid_column": null,
            "grid_gap": null,
            "grid_row": null,
            "grid_template_areas": null,
            "grid_template_columns": null,
            "grid_template_rows": null,
            "height": null,
            "justify_content": null,
            "justify_items": null,
            "left": null,
            "margin": null,
            "max_height": null,
            "max_width": null,
            "min_height": null,
            "min_width": null,
            "object_fit": null,
            "object_position": null,
            "order": null,
            "overflow": null,
            "overflow_x": null,
            "overflow_y": null,
            "padding": null,
            "right": null,
            "top": null,
            "visibility": null,
            "width": null
          }
        },
        "19b57545033d49449d9e8b151e0e318a": {
          "model_module": "@jupyter-widgets/controls",
          "model_name": "DescriptionStyleModel",
          "model_module_version": "1.5.0",
          "state": {
            "_model_module": "@jupyter-widgets/controls",
            "_model_module_version": "1.5.0",
            "_model_name": "DescriptionStyleModel",
            "_view_count": null,
            "_view_module": "@jupyter-widgets/base",
            "_view_module_version": "1.2.0",
            "_view_name": "StyleView",
            "description_width": ""
          }
        },
        "d761a47b993c4f23bf15ff76675c4469": {
          "model_module": "@jupyter-widgets/controls",
          "model_name": "HBoxModel",
          "model_module_version": "1.5.0",
          "state": {
            "_dom_classes": [],
            "_model_module": "@jupyter-widgets/controls",
            "_model_module_version": "1.5.0",
            "_model_name": "HBoxModel",
            "_view_count": null,
            "_view_module": "@jupyter-widgets/controls",
            "_view_module_version": "1.5.0",
            "_view_name": "HBoxView",
            "box_style": "",
            "children": [
              "IPY_MODEL_4a2f165e9a144676a7791e0fe104db08",
              "IPY_MODEL_1bc9e34406be466b8bbdbb7f6945cffa",
              "IPY_MODEL_eddca25e4db74345a97b37db9f7d0bf1"
            ],
            "layout": "IPY_MODEL_8f78a32e2c274898be0394b07ecaddcd"
          }
        },
        "4a2f165e9a144676a7791e0fe104db08": {
          "model_module": "@jupyter-widgets/controls",
          "model_name": "HTMLModel",
          "model_module_version": "1.5.0",
          "state": {
            "_dom_classes": [],
            "_model_module": "@jupyter-widgets/controls",
            "_model_module_version": "1.5.0",
            "_model_name": "HTMLModel",
            "_view_count": null,
            "_view_module": "@jupyter-widgets/controls",
            "_view_module_version": "1.5.0",
            "_view_name": "HTMLView",
            "description": "",
            "description_tooltip": null,
            "layout": "IPY_MODEL_c162b9c410dd4b99870f27c3cf5b0218",
            "placeholder": "​",
            "style": "IPY_MODEL_a53e1a1b169142feb3de0f2f97f6e3bd",
            "value": "Map: 100%"
          }
        },
        "1bc9e34406be466b8bbdbb7f6945cffa": {
          "model_module": "@jupyter-widgets/controls",
          "model_name": "FloatProgressModel",
          "model_module_version": "1.5.0",
          "state": {
            "_dom_classes": [],
            "_model_module": "@jupyter-widgets/controls",
            "_model_module_version": "1.5.0",
            "_model_name": "FloatProgressModel",
            "_view_count": null,
            "_view_module": "@jupyter-widgets/controls",
            "_view_module_version": "1.5.0",
            "_view_name": "ProgressView",
            "bar_style": "success",
            "description": "",
            "description_tooltip": null,
            "layout": "IPY_MODEL_18f8e78eed6043c09875da94df409485",
            "max": 955,
            "min": 0,
            "orientation": "horizontal",
            "style": "IPY_MODEL_ec2674cf383948ff84a6b0bba566927a",
            "value": 955
          }
        },
        "eddca25e4db74345a97b37db9f7d0bf1": {
          "model_module": "@jupyter-widgets/controls",
          "model_name": "HTMLModel",
          "model_module_version": "1.5.0",
          "state": {
            "_dom_classes": [],
            "_model_module": "@jupyter-widgets/controls",
            "_model_module_version": "1.5.0",
            "_model_name": "HTMLModel",
            "_view_count": null,
            "_view_module": "@jupyter-widgets/controls",
            "_view_module_version": "1.5.0",
            "_view_name": "HTMLView",
            "description": "",
            "description_tooltip": null,
            "layout": "IPY_MODEL_24676b0c5b034ab8b957bc0b4c3aeb10",
            "placeholder": "​",
            "style": "IPY_MODEL_1191f091567246b2b07b03555d9f712b",
            "value": " 955/955 [00:00&lt;00:00, 1233.61 examples/s]"
          }
        },
        "8f78a32e2c274898be0394b07ecaddcd": {
          "model_module": "@jupyter-widgets/base",
          "model_name": "LayoutModel",
          "model_module_version": "1.2.0",
          "state": {
            "_model_module": "@jupyter-widgets/base",
            "_model_module_version": "1.2.0",
            "_model_name": "LayoutModel",
            "_view_count": null,
            "_view_module": "@jupyter-widgets/base",
            "_view_module_version": "1.2.0",
            "_view_name": "LayoutView",
            "align_content": null,
            "align_items": null,
            "align_self": null,
            "border": null,
            "bottom": null,
            "display": null,
            "flex": null,
            "flex_flow": null,
            "grid_area": null,
            "grid_auto_columns": null,
            "grid_auto_flow": null,
            "grid_auto_rows": null,
            "grid_column": null,
            "grid_gap": null,
            "grid_row": null,
            "grid_template_areas": null,
            "grid_template_columns": null,
            "grid_template_rows": null,
            "height": null,
            "justify_content": null,
            "justify_items": null,
            "left": null,
            "margin": null,
            "max_height": null,
            "max_width": null,
            "min_height": null,
            "min_width": null,
            "object_fit": null,
            "object_position": null,
            "order": null,
            "overflow": null,
            "overflow_x": null,
            "overflow_y": null,
            "padding": null,
            "right": null,
            "top": null,
            "visibility": null,
            "width": null
          }
        },
        "c162b9c410dd4b99870f27c3cf5b0218": {
          "model_module": "@jupyter-widgets/base",
          "model_name": "LayoutModel",
          "model_module_version": "1.2.0",
          "state": {
            "_model_module": "@jupyter-widgets/base",
            "_model_module_version": "1.2.0",
            "_model_name": "LayoutModel",
            "_view_count": null,
            "_view_module": "@jupyter-widgets/base",
            "_view_module_version": "1.2.0",
            "_view_name": "LayoutView",
            "align_content": null,
            "align_items": null,
            "align_self": null,
            "border": null,
            "bottom": null,
            "display": null,
            "flex": null,
            "flex_flow": null,
            "grid_area": null,
            "grid_auto_columns": null,
            "grid_auto_flow": null,
            "grid_auto_rows": null,
            "grid_column": null,
            "grid_gap": null,
            "grid_row": null,
            "grid_template_areas": null,
            "grid_template_columns": null,
            "grid_template_rows": null,
            "height": null,
            "justify_content": null,
            "justify_items": null,
            "left": null,
            "margin": null,
            "max_height": null,
            "max_width": null,
            "min_height": null,
            "min_width": null,
            "object_fit": null,
            "object_position": null,
            "order": null,
            "overflow": null,
            "overflow_x": null,
            "overflow_y": null,
            "padding": null,
            "right": null,
            "top": null,
            "visibility": null,
            "width": null
          }
        },
        "a53e1a1b169142feb3de0f2f97f6e3bd": {
          "model_module": "@jupyter-widgets/controls",
          "model_name": "DescriptionStyleModel",
          "model_module_version": "1.5.0",
          "state": {
            "_model_module": "@jupyter-widgets/controls",
            "_model_module_version": "1.5.0",
            "_model_name": "DescriptionStyleModel",
            "_view_count": null,
            "_view_module": "@jupyter-widgets/base",
            "_view_module_version": "1.2.0",
            "_view_name": "StyleView",
            "description_width": ""
          }
        },
        "18f8e78eed6043c09875da94df409485": {
          "model_module": "@jupyter-widgets/base",
          "model_name": "LayoutModel",
          "model_module_version": "1.2.0",
          "state": {
            "_model_module": "@jupyter-widgets/base",
            "_model_module_version": "1.2.0",
            "_model_name": "LayoutModel",
            "_view_count": null,
            "_view_module": "@jupyter-widgets/base",
            "_view_module_version": "1.2.0",
            "_view_name": "LayoutView",
            "align_content": null,
            "align_items": null,
            "align_self": null,
            "border": null,
            "bottom": null,
            "display": null,
            "flex": null,
            "flex_flow": null,
            "grid_area": null,
            "grid_auto_columns": null,
            "grid_auto_flow": null,
            "grid_auto_rows": null,
            "grid_column": null,
            "grid_gap": null,
            "grid_row": null,
            "grid_template_areas": null,
            "grid_template_columns": null,
            "grid_template_rows": null,
            "height": null,
            "justify_content": null,
            "justify_items": null,
            "left": null,
            "margin": null,
            "max_height": null,
            "max_width": null,
            "min_height": null,
            "min_width": null,
            "object_fit": null,
            "object_position": null,
            "order": null,
            "overflow": null,
            "overflow_x": null,
            "overflow_y": null,
            "padding": null,
            "right": null,
            "top": null,
            "visibility": null,
            "width": null
          }
        },
        "ec2674cf383948ff84a6b0bba566927a": {
          "model_module": "@jupyter-widgets/controls",
          "model_name": "ProgressStyleModel",
          "model_module_version": "1.5.0",
          "state": {
            "_model_module": "@jupyter-widgets/controls",
            "_model_module_version": "1.5.0",
            "_model_name": "ProgressStyleModel",
            "_view_count": null,
            "_view_module": "@jupyter-widgets/base",
            "_view_module_version": "1.2.0",
            "_view_name": "StyleView",
            "bar_color": null,
            "description_width": ""
          }
        },
        "24676b0c5b034ab8b957bc0b4c3aeb10": {
          "model_module": "@jupyter-widgets/base",
          "model_name": "LayoutModel",
          "model_module_version": "1.2.0",
          "state": {
            "_model_module": "@jupyter-widgets/base",
            "_model_module_version": "1.2.0",
            "_model_name": "LayoutModel",
            "_view_count": null,
            "_view_module": "@jupyter-widgets/base",
            "_view_module_version": "1.2.0",
            "_view_name": "LayoutView",
            "align_content": null,
            "align_items": null,
            "align_self": null,
            "border": null,
            "bottom": null,
            "display": null,
            "flex": null,
            "flex_flow": null,
            "grid_area": null,
            "grid_auto_columns": null,
            "grid_auto_flow": null,
            "grid_auto_rows": null,
            "grid_column": null,
            "grid_gap": null,
            "grid_row": null,
            "grid_template_areas": null,
            "grid_template_columns": null,
            "grid_template_rows": null,
            "height": null,
            "justify_content": null,
            "justify_items": null,
            "left": null,
            "margin": null,
            "max_height": null,
            "max_width": null,
            "min_height": null,
            "min_width": null,
            "object_fit": null,
            "object_position": null,
            "order": null,
            "overflow": null,
            "overflow_x": null,
            "overflow_y": null,
            "padding": null,
            "right": null,
            "top": null,
            "visibility": null,
            "width": null
          }
        },
        "1191f091567246b2b07b03555d9f712b": {
          "model_module": "@jupyter-widgets/controls",
          "model_name": "DescriptionStyleModel",
          "model_module_version": "1.5.0",
          "state": {
            "_model_module": "@jupyter-widgets/controls",
            "_model_module_version": "1.5.0",
            "_model_name": "DescriptionStyleModel",
            "_view_count": null,
            "_view_module": "@jupyter-widgets/base",
            "_view_module_version": "1.2.0",
            "_view_name": "StyleView",
            "description_width": ""
          }
        }
      }
    }
  },
  "nbformat": 4,
  "nbformat_minor": 0
}